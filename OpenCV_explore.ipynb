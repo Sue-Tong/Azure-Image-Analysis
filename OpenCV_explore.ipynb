{
  "cells": [
    {
      "cell_type": "markdown",
      "metadata": {
        "id": "00X6zNX4JsND"
      },
      "source": [
        "### Setup"
      ]
    },
    {
      "cell_type": "code",
      "execution_count": null,
      "metadata": {
        "id": "97fpXsrlJsNF",
        "outputId": "181fea34-c723-4430-8fb7-dc61339baba2"
      },
      "outputs": [
        {
          "name": "stdout",
          "output_type": "stream",
          "text": [
            "Collecting opencv-contrib-python\n",
            "  Downloading opencv_contrib_python-4.6.0.66-cp36-abi3-win_amd64.whl (42.5 MB)\n",
            "Requirement already satisfied: numpy>=1.14.5; python_version >= \"3.7\" in d:\\efficiency_softwares\\anaconda\\anainstall\\lib\\site-packages (from opencv-contrib-python) (1.23.4)\n",
            "Installing collected packages: opencv-contrib-python\n",
            "Successfully installed opencv-contrib-python-4.6.0.66\n"
          ]
        }
      ],
      "source": [
        "#!pip install opencv-contrib-python"
      ]
    },
    {
      "cell_type": "code",
      "execution_count": null,
      "metadata": {
        "id": "F2EAUw0WJsNF"
      },
      "outputs": [],
      "source": [
        "import numpy as np\n",
        "import pandas as pd\n",
        "import cv2\n",
        "import matplotlib.pyplot as plt\n",
        "%matplotlib inline  \n",
        "# if you are running this code in Jupyter notebook"
      ]
    },
    {
      "cell_type": "code",
      "execution_count": null,
      "metadata": {
        "id": "K6F7nnBsJsNG"
      },
      "outputs": [],
      "source": [
        "import janitor"
      ]
    },
    {
      "cell_type": "code",
      "execution_count": null,
      "metadata": {
        "id": "VZX1xeYnJsNG"
      },
      "outputs": [],
      "source": [
        "import os\n",
        "import glob\n",
        "import math\n",
        "from collections import Counter\n",
        "from multiprocessing import Process\n",
        "from time import sleep\n",
        "from random import random\n",
        "import warnings\n",
        "warnings.filterwarnings('ignore')\n"
      ]
    },
    {
      "cell_type": "code",
      "execution_count": null,
      "metadata": {
        "id": "BQlZH5aLJsNG"
      },
      "outputs": [],
      "source": [
        "image_path = \"C:/Users/shiho/Aij/SA_Instagram/opencv/image_file/\""
      ]
    },
    {
      "cell_type": "code",
      "execution_count": null,
      "metadata": {
        "id": "xY0_gQ41JsNG",
        "outputId": "0d185173-edca-49c1-bb10-4743785c512c"
      },
      "outputs": [
        {
          "data": {
            "text/plain": [
              "['C:/Users/shiho/Aij/SA_Instagram/opencv/image_file\\\\279693449_1091281408119679_4964671675412083226_n.webp',\n",
              " 'C:/Users/shiho/Aij/SA_Instagram/opencv/image_file\\\\279763435_307199478245061_6504128092339136514_n.jpg',\n",
              " 'C:/Users/shiho/Aij/SA_Instagram/opencv/image_file\\\\279886837_158654376636686_7346496767698961590_n.webp',\n",
              " 'C:/Users/shiho/Aij/SA_Instagram/opencv/image_file\\\\287742154_738830884032034_1749529156124350381_n.jpg',\n",
              " 'C:/Users/shiho/Aij/SA_Instagram/opencv/image_file\\\\297177013_1131470754387191_6896203709109401460_n.jpg']"
            ]
          },
          "execution_count": 89,
          "metadata": {},
          "output_type": "execute_result"
        }
      ],
      "source": [
        "glob.glob(\"C:/Users/shiho/Aij/SA_Instagram/opencv/image_file/*\")"
      ]
    },
    {
      "cell_type": "code",
      "execution_count": null,
      "metadata": {
        "id": "cBh_BbrkJsNG",
        "outputId": "9a0ab553-f159-4c26-fa34-1a3f237fbac1"
      },
      "outputs": [
        {
          "data": {
            "text/plain": [
              "['279693449_1091281408119679_4964671675412083226_n.webp',\n",
              " '279763435_307199478245061_6504128092339136514_n.jpg',\n",
              " '279886837_158654376636686_7346496767698961590_n.webp',\n",
              " '287742154_738830884032034_1749529156124350381_n.jpg',\n",
              " '297177013_1131470754387191_6896203709109401460_n.jpg']"
            ]
          },
          "execution_count": 90,
          "metadata": {},
          "output_type": "execute_result"
        }
      ],
      "source": [
        "onlyfiles = [f for f in listdir(image_path) if isfile(join(image_path, f))]\n",
        "onlyfiles"
      ]
    },
    {
      "cell_type": "markdown",
      "metadata": {
        "id": "lQX7lctsJsNG"
      },
      "source": [
        "**Create a pandas dataframe to append more pixel and visual features later for analysis**"
      ]
    },
    {
      "cell_type": "code",
      "execution_count": null,
      "metadata": {
        "id": "-IUqZN76JsNH"
      },
      "outputs": [],
      "source": [
        "# Create df based on image name\n",
        "def create_df_from_imagefolder(image_folder_path):\n",
        "    \"\"\"Create a df that has a image_name column to list all images within the specific folder\"\"\"\n",
        "    onlyfiles = [f for f in listdir(image_folder_path) if isfile(join(image_folder_path, f))]\n",
        "    image_df = pd.DataFrame(onlyfiles, columns=['image_name'])\n",
        "    return image_df"
      ]
    },
    {
      "cell_type": "code",
      "execution_count": null,
      "metadata": {
        "id": "dowksPBHJsNH",
        "outputId": "76b3cae5-c61b-4b8a-a353-71fbaca928d2"
      },
      "outputs": [
        {
          "data": {
            "text/html": [
              "<div>\n",
              "<style scoped>\n",
              "    .dataframe tbody tr th:only-of-type {\n",
              "        vertical-align: middle;\n",
              "    }\n",
              "\n",
              "    .dataframe tbody tr th {\n",
              "        vertical-align: top;\n",
              "    }\n",
              "\n",
              "    .dataframe thead th {\n",
              "        text-align: right;\n",
              "    }\n",
              "</style>\n",
              "<table border=\"1\" class=\"dataframe\">\n",
              "  <thead>\n",
              "    <tr style=\"text-align: right;\">\n",
              "      <th></th>\n",
              "      <th>image_name</th>\n",
              "    </tr>\n",
              "  </thead>\n",
              "  <tbody>\n",
              "    <tr>\n",
              "      <th>0</th>\n",
              "      <td>279693449_1091281408119679_4964671675412083226...</td>\n",
              "    </tr>\n",
              "    <tr>\n",
              "      <th>1</th>\n",
              "      <td>279763435_307199478245061_6504128092339136514_...</td>\n",
              "    </tr>\n",
              "    <tr>\n",
              "      <th>2</th>\n",
              "      <td>279886837_158654376636686_7346496767698961590_...</td>\n",
              "    </tr>\n",
              "    <tr>\n",
              "      <th>3</th>\n",
              "      <td>287742154_738830884032034_1749529156124350381_...</td>\n",
              "    </tr>\n",
              "    <tr>\n",
              "      <th>4</th>\n",
              "      <td>297177013_1131470754387191_6896203709109401460...</td>\n",
              "    </tr>\n",
              "  </tbody>\n",
              "</table>\n",
              "</div>"
            ],
            "text/plain": [
              "                                          image_name\n",
              "0  279693449_1091281408119679_4964671675412083226...\n",
              "1  279763435_307199478245061_6504128092339136514_...\n",
              "2  279886837_158654376636686_7346496767698961590_...\n",
              "3  287742154_738830884032034_1749529156124350381_...\n",
              "4  297177013_1131470754387191_6896203709109401460..."
            ]
          },
          "execution_count": 94,
          "metadata": {},
          "output_type": "execute_result"
        }
      ],
      "source": [
        "image_df = create_df_from_imagefolder(\"C:/Users/shiho/Aij/SA_Instagram/opencv/image_file/\")\n",
        "image_df"
      ]
    },
    {
      "cell_type": "markdown",
      "metadata": {
        "id": "yg8YUgv9JsNH"
      },
      "source": [
        "## Pixel Features"
      ]
    },
    {
      "cell_type": "code",
      "execution_count": null,
      "metadata": {
        "id": "qXQiC6aaJsNH"
      },
      "outputs": [],
      "source": [
        "# Colored images are default channels in B, G, R order\n",
        "image_name =\"287742154_738830884032034_1749529156124350381_n.jpg\"\n",
        "image = cv2.imread(\"287742154_738830884032034_1749529156124350381_n.jpg\")"
      ]
    },
    {
      "cell_type": "code",
      "execution_count": null,
      "metadata": {
        "id": "TRjhFqCjJsNH"
      },
      "outputs": [],
      "source": []
    },
    {
      "cell_type": "code",
      "execution_count": null,
      "metadata": {
        "id": "AdACg76JJsNH"
      },
      "outputs": [],
      "source": [
        "cv2.imshow(\"Display window\", image)\n",
        "k = cv2.waitKey(0)"
      ]
    },
    {
      "cell_type": "code",
      "execution_count": null,
      "metadata": {
        "id": "DqGHWKR4JsNH",
        "outputId": "21134405-fc7c-4376-d325-31d44ff1045a"
      },
      "outputs": [
        {
          "data": {
            "text/plain": [
              "array([[[ 75,  58,  55],\n",
              "        [ 76,  59,  56],\n",
              "        [ 77,  60,  57],\n",
              "        ...,\n",
              "        [ 85,  72,  96],\n",
              "        [ 85,  72,  96],\n",
              "        [ 84,  71,  95]],\n",
              "\n",
              "       [[ 77,  60,  57],\n",
              "        [ 78,  61,  58],\n",
              "        [ 79,  62,  59],\n",
              "        ...,\n",
              "        [ 83,  70,  94],\n",
              "        [ 84,  71,  95],\n",
              "        [ 84,  71,  95]],\n",
              "\n",
              "       [[ 80,  63,  60],\n",
              "        [ 80,  63,  60],\n",
              "        [ 81,  64,  61],\n",
              "        ...,\n",
              "        [ 81,  68,  92],\n",
              "        [ 81,  68,  92],\n",
              "        [ 81,  68,  92]],\n",
              "\n",
              "       ...,\n",
              "\n",
              "       [[126, 138, 142],\n",
              "        [126, 138, 142],\n",
              "        [126, 138, 142],\n",
              "        ...,\n",
              "        [141, 153, 157],\n",
              "        [142, 154, 158],\n",
              "        [141, 153, 157]],\n",
              "\n",
              "       [[126, 138, 142],\n",
              "        [126, 138, 142],\n",
              "        [126, 138, 142],\n",
              "        ...,\n",
              "        [141, 153, 157],\n",
              "        [142, 154, 158],\n",
              "        [141, 153, 157]],\n",
              "\n",
              "       [[126, 138, 142],\n",
              "        [126, 138, 142],\n",
              "        [126, 138, 142],\n",
              "        ...,\n",
              "        [141, 153, 157],\n",
              "        [142, 154, 158],\n",
              "        [141, 153, 157]]], dtype=uint8)"
            ]
          },
          "execution_count": 68,
          "metadata": {},
          "output_type": "execute_result"
        }
      ],
      "source": [
        "image"
      ]
    },
    {
      "cell_type": "code",
      "execution_count": null,
      "metadata": {
        "id": "mJkqWPm2JsNI",
        "outputId": "ac1f3aca-acaf-4a7d-8463-a627446b66f4"
      },
      "outputs": [
        {
          "name": "stdout",
          "output_type": "stream",
          "text": [
            "(935, 750, 3)\n",
            "2103750\n",
            "uint8\n"
          ]
        }
      ],
      "source": [
        "# Shape of image a tuple of the number of rows, columns, and channels (if the image is color)\n",
        "print(image.shape)\n",
        "# number of pixels\n",
        "print(image.size)\n",
        "# image datatype\n",
        "print(image.dtype)"
      ]
    },
    {
      "cell_type": "markdown",
      "metadata": {
        "id": "uMgAxvuMJsNI"
      },
      "source": [
        "### 1. BGR Channels"
      ]
    },
    {
      "cell_type": "code",
      "execution_count": null,
      "metadata": {
        "id": "_5A4tQwOJsNI",
        "outputId": "314334bc-e09b-4b88-8e82-e8f737389973"
      },
      "outputs": [
        {
          "data": {
            "text/plain": [
              "array([[ 55,  56,  57, ...,  96,  96,  95],\n",
              "       [ 57,  58,  59, ...,  94,  95,  95],\n",
              "       [ 60,  60,  61, ...,  92,  92,  92],\n",
              "       ...,\n",
              "       [142, 142, 142, ..., 157, 158, 157],\n",
              "       [142, 142, 142, ..., 157, 158, 157],\n",
              "       [142, 142, 142, ..., 157, 158, 157]], dtype=uint8)"
            ]
          },
          "execution_count": 71,
          "metadata": {},
          "output_type": "execute_result"
        }
      ],
      "source": [
        "# BGR channels (blue, green, red)\n",
        "# the split is a costly operation, use numpy indexing instead\n",
        "b,g,r =cv2.split(image)\n",
        "# numpy indexing\n",
        "b = image[:,:,0]\n",
        "g = image[:,:,1]\n",
        "r = image[:,:,2]\n",
        "r"
      ]
    },
    {
      "cell_type": "markdown",
      "metadata": {
        "id": "o1KUa1DGJsNI"
      },
      "source": [
        "**BGR mean and variance**"
      ]
    },
    {
      "cell_type": "code",
      "execution_count": null,
      "metadata": {
        "id": "p0uf-ETkJsNI",
        "outputId": "51214aad-090b-49a0-be2d-a3c48092a2a4"
      },
      "outputs": [
        {
          "data": {
            "text/html": [
              "<div>\n",
              "<style scoped>\n",
              "    .dataframe tbody tr th:only-of-type {\n",
              "        vertical-align: middle;\n",
              "    }\n",
              "\n",
              "    .dataframe tbody tr th {\n",
              "        vertical-align: top;\n",
              "    }\n",
              "\n",
              "    .dataframe thead th {\n",
              "        text-align: right;\n",
              "    }\n",
              "</style>\n",
              "<table border=\"1\" class=\"dataframe\">\n",
              "  <thead>\n",
              "    <tr style=\"text-align: right;\">\n",
              "      <th></th>\n",
              "      <th>Blue Mean</th>\n",
              "      <th>Red Mean</th>\n",
              "    </tr>\n",
              "  </thead>\n",
              "  <tbody>\n",
              "    <tr>\n",
              "      <th>0</th>\n",
              "      <td>1</td>\n",
              "      <td>3</td>\n",
              "    </tr>\n",
              "  </tbody>\n",
              "</table>\n",
              "</div>"
            ],
            "text/plain": [
              "   Blue Mean  Red Mean\n",
              "0          1         3"
            ]
          },
          "execution_count": 99,
          "metadata": {},
          "output_type": "execute_result"
        }
      ],
      "source": [
        "pd.DataFrame({'Blue Mean': [1], 'Red Mean': [3]})"
      ]
    },
    {
      "cell_type": "code",
      "execution_count": null,
      "metadata": {
        "id": "loI-JYsTJsNI"
      },
      "outputs": [],
      "source": [
        "def calculate_BGR_mean_variance(image = image):\n",
        "    \"\"\"Return the Mean and Variance of the BGR value\n",
        "    Return 6 values in order: mean of blue, green, red; variance of blue, green, red\n",
        "    \"\"\"\n",
        "    BGR_mean_variance = cv2.meanStdDev(image)\n",
        "    blue_mean = float(BGR_mean_variance[0][0])\n",
        "    green_mean = float(BGR_mean_variance[0][1])\n",
        "    red_mean = float(BGR_mean_variance[0][2])\n",
        "    blue_var = float(BGR_mean_variance[1][0]**2)\n",
        "    green_var = float(BGR_mean_variance[1][1]**2)\n",
        "    red_var = float(BGR_mean_variance[1][2]**2)\n",
        "    return blue_mean, green_mean, red_mean, blue_var, green_var, red_var"
      ]
    },
    {
      "cell_type": "code",
      "execution_count": null,
      "metadata": {
        "id": "YzQoB9cFJsNI",
        "outputId": "aa9f78fc-5393-47cb-f417-ed2b2f09aa3e"
      },
      "outputs": [
        {
          "data": {
            "text/plain": [
              "array([129.04127201, 138.98906524, 156.45470945])"
            ]
          },
          "execution_count": 84,
          "metadata": {},
          "output_type": "execute_result"
        }
      ],
      "source": [
        "calculate_BGR_mean_variance(image)"
      ]
    },
    {
      "cell_type": "code",
      "execution_count": null,
      "metadata": {
        "id": "NZdtaqvZJsNI",
        "outputId": "70a6ca1a-bee6-4cc9-e11a-adb59706f7d8"
      },
      "outputs": [
        {
          "data": {
            "text/plain": [
              "(129.04127201426024,\n",
              " 138.9890652406417,\n",
              " 156.45470944741533,\n",
              " 1729.6729461752072,\n",
              " 1720.3692522670462,\n",
              " 1865.7595181063152)"
            ]
          },
          "execution_count": 262,
          "metadata": {},
          "output_type": "execute_result"
        }
      ],
      "source": [
        "calculate_BGR_mean_variance(image)"
      ]
    },
    {
      "cell_type": "markdown",
      "metadata": {
        "id": "WNademcmJsNI"
      },
      "source": [
        "**TBD: Find the dominance color of the image?**"
      ]
    },
    {
      "cell_type": "markdown",
      "metadata": {
        "id": "fyqRVpRWJsNI"
      },
      "source": [
        "### 2. HSV Channels"
      ]
    },
    {
      "cell_type": "markdown",
      "metadata": {
        "id": "Cp5a_lu0JsNI"
      },
      "source": [
        "**Convert between RGB and HSV**\n",
        "\n",
        "Reference: https://docs.opencv.org/3.4/de/d25/imgproc_color_conversions.html#color_convert_rgb_hsv"
      ]
    },
    {
      "cell_type": "code",
      "execution_count": null,
      "metadata": {
        "id": "Bc-BTZPUJsNI",
        "outputId": "a6d667d7-ce32-42b2-f13f-495b60dd4dbd"
      },
      "outputs": [
        {
          "data": {
            "text/plain": [
              "array([[[116,  68,  75],\n",
              "        [116,  67,  76],\n",
              "        [116,  66,  77],\n",
              "        ...,\n",
              "        [164,  64,  96],\n",
              "        [164,  64,  96],\n",
              "        [164,  64,  95]],\n",
              "\n",
              "       [[116,  66,  77],\n",
              "        [116,  65,  78],\n",
              "        [116,  65,  79],\n",
              "        ...,\n",
              "        [164,  65,  94],\n",
              "        [164,  64,  95],\n",
              "        [164,  64,  95]],\n",
              "\n",
              "       [[116,  64,  80],\n",
              "        [116,  64,  80],\n",
              "        [116,  63,  81],\n",
              "        ...,\n",
              "        [164,  67,  92],\n",
              "        [164,  67,  92],\n",
              "        [164,  67,  92]],\n",
              "\n",
              "       ...,\n",
              "\n",
              "       [[ 23,  29, 142],\n",
              "        [ 23,  29, 142],\n",
              "        [ 23,  29, 142],\n",
              "        ...,\n",
              "        [ 23,  26, 157],\n",
              "        [ 23,  26, 158],\n",
              "        [ 23,  26, 157]],\n",
              "\n",
              "       [[ 23,  29, 142],\n",
              "        [ 23,  29, 142],\n",
              "        [ 23,  29, 142],\n",
              "        ...,\n",
              "        [ 23,  26, 157],\n",
              "        [ 23,  26, 158],\n",
              "        [ 23,  26, 157]],\n",
              "\n",
              "       [[ 23,  29, 142],\n",
              "        [ 23,  29, 142],\n",
              "        [ 23,  29, 142],\n",
              "        ...,\n",
              "        [ 23,  26, 157],\n",
              "        [ 23,  26, 158],\n",
              "        [ 23,  26, 157]]], dtype=uint8)"
            ]
          },
          "execution_count": 75,
          "metadata": {},
          "output_type": "execute_result"
        }
      ],
      "source": [
        "# HSV channels\n",
        "hsv_image = cv2.cvtColor(image, cv2.COLOR_BGR2HSV)\n",
        "hsv_image"
      ]
    },
    {
      "cell_type": "code",
      "execution_count": null,
      "metadata": {
        "id": "9tXn39k1JsNJ",
        "outputId": "f5bcf83c-ca62-45dc-bab4-5a8b1710a654"
      },
      "outputs": [
        {
          "data": {
            "text/plain": [
              "array([[116, 116, 116, ..., 164, 164, 164],\n",
              "       [116, 116, 116, ..., 164, 164, 164],\n",
              "       [116, 116, 116, ..., 164, 164, 164],\n",
              "       ...,\n",
              "       [ 23,  23,  23, ...,  23,  23,  23],\n",
              "       [ 23,  23,  23, ...,  23,  23,  23],\n",
              "       [ 23,  23,  23, ...,  23,  23,  23]], dtype=uint8)"
            ]
          },
          "execution_count": 112,
          "metadata": {},
          "output_type": "execute_result"
        }
      ],
      "source": [
        "# numpy indexing for HSV (Hue, Saturation, Value)\n",
        "h = hsv_image[:,:,0]\n",
        "s = hsv_image[:,:,1]\n",
        "v = hsv_image[:,:,2]\n",
        "h"
      ]
    },
    {
      "cell_type": "markdown",
      "metadata": {
        "id": "tKjV3viOJsNJ"
      },
      "source": [
        "#### 2.1 Hue Share"
      ]
    },
    {
      "cell_type": "markdown",
      "metadata": {
        "id": "UYJbL1KCJsNJ"
      },
      "source": [
        "#### Define the hue boundary to identify the color\n",
        "\n",
        "According to the literature, 6 key colors (red, orange, yellow, green, blue, violet) are identified in the literature:\n",
        "\n",
        "Kim, Y., & Kim, J. H. (2020). Using photos for public health communication: A computational analysis of the Centers for Disease Control and Prevention Instagram photos and public responses. Health Informatics Journal, 26(3), 2159-2180.\n",
        "\n",
        "Set the range of these colors accordingly:"
      ]
    },
    {
      "cell_type": "markdown",
      "metadata": {
        "id": "QxyB-1XJJsNJ"
      },
      "source": [
        "The above literature used the following intervals to categorize hue colors:\n",
        "**May need to discuss with the team**\n",
        "\n",
        "Use this website to test the colors: https://colorpicker.me/ (Note that the Hue range for OpenCV is [0-180], while the range for this website is [0-360])\n",
        "\n",
        "Intervals:\n",
        "- Red: 0 ~ 7, 169 ~ 180\n",
        "- Orange: 7 ~ 23\n",
        "- Yellow: 23 ~ 35\n",
        "- Green: 35 ~ 90\n",
        "- Blue: 90 ~ 136\n",
        "- Violet: 136 ~ 169"
      ]
    },
    {
      "cell_type": "code",
      "execution_count": null,
      "metadata": {
        "id": "Wp--ez3xJsNJ"
      },
      "outputs": [],
      "source": [
        "def get_hue_share_of_images(hue = h):\n",
        "    \"\"\"Get the share of six key colors (red, orange, yellow, green, blue, violet), \n",
        "    and also the share of warm (red, orange, yellow) and cold color (green, blue, violet) in a photo\n",
        "    Return 8 values in order: Share of red, orange, yellow, green, blue, violet, warm, cold\n",
        "    \"\"\"\n",
        "    hue_name_list = []\n",
        "    # Flatten the hue ndarray into list\n",
        "    hue_value_list = list(h.flatten())\n",
        "    \n",
        "    # Assign the hue name color based on values\n",
        "    for i in range(0,len(hue_value_list)):\n",
        "        hue_value = hue_value_list[i]\n",
        "        if 7 <= hue_value < 23:\n",
        "            hue_name_list.append(\"Orange\")\n",
        "        elif 23 <= hue_value < 35:\n",
        "            hue_name_list.append(\"Yellow\")\n",
        "        elif 35 <= hue_value < 90:\n",
        "            hue_name_list.append(\"Green\")\n",
        "        elif 90 <= hue_value < 136:\n",
        "            hue_name_list.append(\"Blue\")\n",
        "        elif 136 <= hue_value <169:\n",
        "            hue_name_list.append(\"Violet\")\n",
        "        else: \n",
        "            hue_name_list.append(\"Red\")\n",
        "    \n",
        "    # Get the share of key colors and the warm/cold colors\n",
        "    \n",
        "    total_pixel = len(hue_name_list)\n",
        "    pixel_color_count = Counter(hue_name_list)\n",
        "    \n",
        "    red_share = pixel_color_count['Red'] / total_pixel\n",
        "    organge_share = pixel_color_count['Orange'] / total_pixel\n",
        "    yellow_share = pixel_color_count['Yellow'] / total_pixel\n",
        "    green_share = pixel_color_count['Green'] / total_pixel\n",
        "    blue_share = pixel_color_count['Blue'] / total_pixel\n",
        "    violet_share = pixel_color_count['Violet'] / total_pixel\n",
        "    \n",
        "    warm_share = red_share + organge_share + yellow_share\n",
        "    cold_share = green_share + blue_share + violet_share\n",
        "    \n",
        "    return red_share, organge_share, yellow_share, green_share, blue_share, violet_share, warm_share, cold_share"
      ]
    },
    {
      "cell_type": "code",
      "execution_count": null,
      "metadata": {
        "scrolled": true,
        "id": "W-StB6N5JsNJ",
        "outputId": "1af70ea0-006c-4118-dc69-41744cb151c0"
      },
      "outputs": [
        {
          "data": {
            "text/plain": [
              "(0.12532192513368984,\n",
              " 0.5755622103386809,\n",
              " 0.11346737967914439,\n",
              " 0.0581204991087344,\n",
              " 0.06936042780748664,\n",
              " 0.058167557932263816,\n",
              " 0.814351515151515,\n",
              " 0.18564848484848484)"
            ]
          },
          "execution_count": 138,
          "metadata": {},
          "output_type": "execute_result"
        }
      ],
      "source": [
        "get_hue_share_of_images(h)"
      ]
    },
    {
      "cell_type": "markdown",
      "metadata": {
        "id": "j6YkNZxnJsNJ"
      },
      "source": [
        "#### 2.2 Saturation, Value and Pleasure-Arousal-Dominance model"
      ]
    },
    {
      "cell_type": "markdown",
      "metadata": {
        "id": "ndQOzbRkJsNJ"
      },
      "source": [
        "The PAD model formula for colors is adapted from: https://d1wqtxts1xzle7.cloudfront.net/60902596/color_of_psychology20191014-57839-165md2u-with-cover-page-v2.pdf?Expires=1666589035&Signature=eJuengtAOLbO4itYuzORSrtna2snnz5oVG9P6~KDhbM9SC-gBxFNDG97gD-bc9HJ2zGJ09t6EXLyhV3JuY0nVSNVrvOlafXyjd06fXbyx~islHjJ7NMvcx4YjLGmYM1bzpRj2OBH1lccDb7EDo3uNbVbZJQdEnryJVA1vJP-CKY7j24c8nkaGlNiWfWdDXJqiTwE5Oqf18IdTvW322UgKuf-bvT0at6AnFvVoJjUqSH0htn9jLFxLHvlyNnXpd0y~UCW6tCbPzSVj84KZq7KL40Te9g4nwdbZzQtqTy2V6unUcg3vdZzH0KsOTt1hHOqwaAsx8oXASQerLsd~ogUEQ__&Key-Pair-Id=APKAJLOHF5GGSLRBV4ZA"
      ]
    },
    {
      "cell_type": "code",
      "execution_count": null,
      "metadata": {
        "id": "AlMstcXiJsNJ"
      },
      "outputs": [],
      "source": [
        "def calculate_SV_mean_variance_and_PAD(hsv_image = hsv_image):\n",
        "    \"\"\"Return the Mean and Variance of saturation and values, and the Pleasure, Arousal and Dominance\n",
        "    Return 7 values in order: mean of saturation & value; variance of saturation & value; P & A & D \n",
        "    \"\"\"\n",
        "    # Saturation and Value mean/variance\n",
        "    HSV_mean_variance = cv2.meanStdDev(hsv_image)\n",
        "    \n",
        "    saturation_mean = float(HSV_mean_variance[0][1])\n",
        "    value_mean = float(HSV_mean_variance[0][2])\n",
        "\n",
        "    saturation_var = float(HSV_mean_variance[1][1]**2)\n",
        "    value_var = float(HSV_mean_variance[1][2]**2)\n",
        "    \n",
        "    # PAD\n",
        "    pleasure = 0.69*value_mean + 0.22*saturation_mean\n",
        "    arousal = -0.31*value_mean + 0.60*saturation_mean\n",
        "    dominance = -0.76*value_mean + 0.32*saturation_mean\n",
        "    \n",
        "    return saturation_mean, value_mean, saturation_var, value_var, pleasure, arousal, dominance "
      ]
    },
    {
      "cell_type": "code",
      "execution_count": null,
      "metadata": {
        "id": "eZqVwY2AJsNK",
        "outputId": "4cb453b4-895d-4ca7-d2d3-563b0c62e7e2"
      },
      "outputs": [
        {
          "data": {
            "text/plain": [
              "(53.50473725490196,\n",
              " 158.59976185383246,\n",
              " 1516.5263782714292,\n",
              " 1754.8027627240297,\n",
              " 121.20487787522282,\n",
              " -17.063083821746886,\n",
              " -103.41430308734404)"
            ]
          },
          "execution_count": 264,
          "metadata": {},
          "output_type": "execute_result"
        }
      ],
      "source": [
        "calculate_SV_mean_variance_and_PAD(hsv_image)"
      ]
    },
    {
      "cell_type": "code",
      "execution_count": null,
      "metadata": {
        "id": "E97oZDCzJsNK",
        "outputId": "fdbdce69-b253-409d-af63-831db42312b4"
      },
      "outputs": [
        {
          "data": {
            "text/plain": [
              "array([[ 39.37221961],\n",
              "       [ 53.50473725],\n",
              "       [158.59976185]])"
            ]
          },
          "execution_count": 144,
          "metadata": {},
          "output_type": "execute_result"
        }
      ],
      "source": [
        "cv2.meanStdDev(hsv_image)[0]"
      ]
    },
    {
      "cell_type": "markdown",
      "metadata": {
        "id": "PqZ8Lt72JsNK"
      },
      "source": [
        "## Visual Features"
      ]
    },
    {
      "cell_type": "markdown",
      "metadata": {
        "id": "hq_rwzhGJsNK"
      },
      "source": [
        "### 1. Brightness"
      ]
    },
    {
      "cell_type": "markdown",
      "metadata": {
        "id": "esBTcA4jJsNK"
      },
      "source": [
        "Brightness is measured using luminance in YUV color channels, the conventional ranges for Y, U, and V channel values are 0 to 255."
      ]
    },
    {
      "cell_type": "code",
      "execution_count": null,
      "metadata": {
        "id": "pVmDfIW2JsNK"
      },
      "outputs": [],
      "source": [
        "yuv_image = cv2.cvtColor(image, cv2.COLOR_BGR2YUV)"
      ]
    },
    {
      "cell_type": "code",
      "execution_count": null,
      "metadata": {
        "id": "pdFRBOR0JsNK"
      },
      "outputs": [],
      "source": [
        "def calculate_brightness(yuv_image = yuv_image):\n",
        "    \"\"\"Get the brightness of a photo measured by the average of luminance\n",
        "    Image type in YUV\n",
        "    \"\"\"\n",
        "    brightness = cv2.mean(yuv_image)[0]\n",
        "    return brightness"
      ]
    },
    {
      "cell_type": "code",
      "execution_count": null,
      "metadata": {
        "id": "QmA7OShrJsNK",
        "outputId": "cdd61e53-784b-4a8d-aa41-3dbefa6e026a"
      },
      "outputs": [
        {
          "data": {
            "text/plain": [
              "143.08267664884136"
            ]
          },
          "execution_count": 165,
          "metadata": {},
          "output_type": "execute_result"
        }
      ],
      "source": [
        "calculate_brightness(yuv_image)"
      ]
    },
    {
      "cell_type": "markdown",
      "metadata": {
        "id": "IkzD4TFyJsNK"
      },
      "source": [
        "### 2. Colorfulness"
      ]
    },
    {
      "cell_type": "markdown",
      "metadata": {
        "id": "SHDxvic9JsNK"
      },
      "source": [
        "Measures how colorful a given photo is. Reference: https://pyimagesearch.com/2017/06/05/computing-image-colorfulness-with-opencv-and-python/"
      ]
    },
    {
      "cell_type": "markdown",
      "metadata": {
        "id": "Wst03t1gJsNK"
      },
      "source": [
        "The metric to evaluation the colorfulness is:\n",
        "\n",
        "$$\n",
        "rg = R - G\n",
        "$$\n",
        "\n",
        "$$\n",
        "yb = \\frac{1}{2}(R+G) - B\n",
        "$$\n",
        "\n",
        "where: \n",
        "\n",
        "$R$: Red\n",
        "\n",
        "$G$: Green\n",
        "\n",
        "$B$: Blue\n",
        "\n",
        "$rg$: Difference between red channel and green channel\n",
        "\n",
        "$yb$: Half of the sum of the red and green channels minus the blue channel"
      ]
    },
    {
      "cell_type": "markdown",
      "metadata": {
        "id": "xhk_kYNpJsNK"
      },
      "source": [
        "The final colorfulness metric $C$ is:\n",
        "\n",
        "$$\n",
        "\\sigma_{rgyb} = \\sqrt{\\sigma^2_{rg} + \\sigma^2_{yb}}\n",
        "$$\n",
        "$$\n",
        "\\mu_{rgyb} = \\sqrt{\\mu^2_{rg} + \\mu^2_{yb}}\n",
        "$$\n",
        "$$\n",
        "C = \\sigma_{rgyb} + 0.3*\\mu_{rgyb}\n",
        "$$\n",
        "\n",
        "where:\n",
        "\n",
        "$\\sigma$ and $\\mu$ are the standard deviation and mean value of the pixel cloud along direction"
      ]
    },
    {
      "cell_type": "code",
      "execution_count": null,
      "metadata": {
        "id": "wINJcEmWJsNK"
      },
      "outputs": [],
      "source": [
        "def calculate_colorfulness(image = image):\n",
        "    \"\"\"Calculate the colorfulness of an image\n",
        "    Imange in BGR channel\n",
        "    \"\"\"\n",
        "    # Split image into BGR channel\n",
        "    (B, G, R) = cv2.split(image.astype('float'))\n",
        "    \n",
        "    # rg = R-G\n",
        "    rg = np.absolute(R-G)\n",
        "    \n",
        "    # yb = 0.5* (R+G) - B\n",
        "    yb = np.absolute(0.5*(R+G) - B)\n",
        "    \n",
        "    # mean and sd of 'rg' and 'yb'\n",
        "    (rg_mean, rg_std) = (np.mean(rg), np.std(rg))\n",
        "    (yb_mean, yb_std) = (np.mean(yb), np.std(yb))\n",
        "    \n",
        "    # combine mean and std\n",
        "    root_mean = np.sqrt(rg_mean ** 2 + yb_mean ** 2)\n",
        "    root_std = np.sqrt(rg_std **2 + yb_std ** 2)\n",
        "    \n",
        "    colorfulness = root_std + 0.3 * root_mean\n",
        "    \n",
        "    return colorfulness"
      ]
    },
    {
      "cell_type": "code",
      "execution_count": null,
      "metadata": {
        "id": "bTANORJaJsNK",
        "outputId": "17159505-53f1-4a37-8bf7-761f6416c45d"
      },
      "outputs": [
        {
          "data": {
            "text/plain": [
              "39.5318242627398"
            ]
          },
          "execution_count": 160,
          "metadata": {},
          "output_type": "execute_result"
        }
      ],
      "source": [
        "calculate_colorfulness(image)"
      ]
    },
    {
      "cell_type": "markdown",
      "metadata": {
        "id": "OuZ-GO0RJsNK"
      },
      "source": [
        "### 3. Naturalness"
      ]
    },
    {
      "cell_type": "markdown",
      "metadata": {
        "id": "bv8LmFYMJsNL"
      },
      "source": [
        "Measures how much a given image corresponds to human perception of reality. Reference: \n",
        "\n",
        "https://dl.acm.org/doi/pdf/10.1145/1526709.1526813"
      ]
    },
    {
      "cell_type": "markdown",
      "metadata": {
        "id": "HAknNZg9JsNL"
      },
      "source": [
        "**How to calculate naturalness:**\n",
        "Reference: \n",
        "https://www.sciencedirect.com/science/article/pii/S1077314206000233?casa_token=imN184fcv10AAAAA:iQc5plIKFRVTzUFmIYludKxczXA0L0fafBAug1CCJ1hooSiP3yvmc15oq6eJieq26j6ACA3IEQ#fn4\n",
        "\n",
        "\n",
        "1. Compute the luminance (L), hue (H) and saturation(S)\n",
        "2. Thresholding L and S components: keep L values between 20 and 80 (in range 0 - 100), S > 0.1 (in range 0-1)\n",
        "3. Define three kinds of pixels based on hue values: 25 - 70 'skin' pixels, 95 - 135 'grass' pixels, 185 - 260 'sky' pixels (in range 0-360)\n",
        "4. Calculate average saturation values for skin $S_{avg\\_skin}$, grass $S_{avg\\_grass}$, sky $S_{avg\\_sky}$ and number of skin pixels $n_{skin}$ $n_{grass}$ $n_{sky}$\n",
        "5. Calculate local CNI (color naturalness index) which:\n",
        "$$N_{skin} = exp(-0.5*((S_{avg\\_skin} - 0.76)/0.52)^2)$$\n",
        "$$N_{grass} = exp(-0.5*((S_{avg\\_grass} - 0.81)/0.53)^2)$$\n",
        "$$N_{sky} = exp(-0.5*((S_{avg\\_sky} - 0.43)/0.22)^2)$$\n",
        "6. Calculate global CNI which:\n",
        "$$N_{image} = (n_{skin} * N_{skin} + n_{grass} * N_{grass} + n_{sky} * N_{sky}) / (n_{skin} +n_{grass} + n_{sky})$$\n",
        "\n",
        "$N_{image}$ should vary from 0 (most unnatural) to 1 (most natural)"
      ]
    },
    {
      "cell_type": "code",
      "execution_count": null,
      "metadata": {
        "id": "YyFNjD58JsNL"
      },
      "outputs": [],
      "source": [
        "def calculate_naturalness(hsv_image = hsv_image, yuv_image = yuv_image):\n",
        "    \"\"\"Calculate the naturalness of a image\n",
        "    Require the luminance (Y) in YUV color space, Hue (H) and Saturation (S) in HSV color space\n",
        "    Return a value 0 (most unnatural) - 1 (most natural) \n",
        "    \"\"\"\n",
        "    # Step 1:\n",
        "    # Get the luminance, hue and saturation from the image\n",
        "    y = yuv_image[:,:,0]\n",
        "    h = hsv_image[:,:,0]\n",
        "    v = hsv_image[:,:,1]\n",
        "    \n",
        "    # Rescale the values since the scale is different from OpenCV\n",
        "    # y cv range 0-255, rescale to 0 - 100\n",
        "    y_cv_range = pd.Series(y.flatten())\n",
        "    y_rescaled = y_cv_range*(100/255)\n",
        "    # h cv range 0-180, rescale to 0 - 360\n",
        "    h_cv_range = pd.Series(h.flatten())\n",
        "    h_rescaled = h_cv_range*2\n",
        "    # s cv range 0-255, rescale to 0 - 1\n",
        "    s_cv_range = pd.Series(s.flatten())\n",
        "    s_rescaled = s_cv_range/255   \n",
        "    \n",
        "    #Create a pd.df to store all rescaled values\n",
        "    rescaled_df = pd.DataFrame({'y_rescaled':y_rescaled, 'h_rescaled': h_rescaled, 's_rescaled' : s_rescaled})\n",
        "    \n",
        "    # Step 2:\n",
        "    # threshold luminance and saturation components\n",
        "    threshold_df = rescaled_df[(20 <= rescaled_df['y_rescaled']) & (rescaled_df['y_rescaled'] <= 80) & (rescaled_df['s_rescaled'] > 0.1)]\n",
        "    threshold_df['pixel_kind'] = pd.Series()\n",
        "    threshold_df = threshold_df.reset_index()\n",
        "    \n",
        "    # Step 3:\n",
        "    # Define pixel kinds\n",
        "    threshold_df = threshold_df.case_when(\n",
        "            # condition, value\n",
        "        (25 <= threshold_df.h_rescaled) & (threshold_df.h_rescaled <= 70), \"Skin\",\n",
        "        (95 <= threshold_df.h_rescaled) & (threshold_df.h_rescaled <= 135), \"Grass\",\n",
        "        (185 <= threshold_df.h_rescaled) & (threshold_df.h_rescaled <= 260), \"Sky\",\n",
        "        np.nan,\n",
        "        column_name= \"pixel_kind\")\n",
        "    \n",
        "    # Step 4:\n",
        "    # calculate pixels of three pixel kinds\n",
        "    pixel_count = threshold_df.pixel_kind.value_counts()\n",
        "    skin_count = pixel_count['Skin']\n",
        "    grass_count = pixel_count['Grass']\n",
        "    sky_count = pixel_count['Sky']\n",
        "\n",
        "    # calculate the averaged saturation values for three pixel kinds\n",
        "    skin_s = threshold_df.loc[threshold_df['pixel_kind'] == 'Skin', 's_rescaled'].mean()\n",
        "    grass_s = threshold_df.loc[threshold_df['pixel_kind'] == 'Grass', 's_rescaled'].mean()\n",
        "    sky_s = threshold_df.loc[threshold_df['pixel_kind'] == 'Sky', 's_rescaled'].mean()\n",
        "    \n",
        "    # Step 5: \n",
        "    # Calculate local CNI values for three pixel kinds\n",
        "    N_skin = math.exp(-0.5*((skin_s - 0.76)/0.52)**2)\n",
        "    N_grass = math.exp(-0.5*((grass_s - 0.81)/0.53)**2)\n",
        "    N_sky = math.exp(-0.5*((sky_s - 0.43)/0.22)**2)\n",
        "    \n",
        "    # Step 6:\n",
        "    # Calculate the global CNI values\n",
        "    N_image = (skin_count*N_skin + grass_count * N_grass + sky_count * N_sky)/(skin_count + grass_count + sky_count)\n",
        "    \n",
        "    return N_image"
      ]
    },
    {
      "cell_type": "code",
      "execution_count": null,
      "metadata": {
        "id": "e65z-l1vJsNL",
        "outputId": "6ae34d3c-b842-49c4-abfe-d71a246f162b"
      },
      "outputs": [
        {
          "data": {
            "text/plain": [
              "0.6214029704309361"
            ]
          },
          "execution_count": 253,
          "metadata": {},
          "output_type": "execute_result"
        }
      ],
      "source": [
        "calculate_naturalness(hsv_image = hsv_image, yuv_image= yuv_image)"
      ]
    },
    {
      "cell_type": "code",
      "execution_count": null,
      "metadata": {
        "id": "s2OaNj6iJsNL"
      },
      "outputs": [],
      "source": [
        "# Create a pd dataframe that stores all the rescaled values\n",
        "#pd.Series()\n",
        "# y cv range 0-255, rescale to 0 - 100\n",
        "y_cv_range = pd.Series(y.flatten())\n",
        "y_rescaled = y_cv_range*(100/255)\n",
        "# h cv range 0-180, rescale to 0 - 360\n",
        "h_cv_range = pd.Series(h.flatten())\n",
        "h_rescaled = h_cv_range*2\n",
        "# s cv range 0-255, rescale to 0 - 1\n",
        "s_cv_range = pd.Series(s.flatten())\n",
        "s_rescaled = s_cv_range/255"
      ]
    },
    {
      "cell_type": "code",
      "execution_count": null,
      "metadata": {
        "id": "2HQzKt0FJsNL"
      },
      "outputs": [],
      "source": [
        "rescaled_df = pd.DataFrame({'y_rescaled':y_rescaled, 'h_rescaled': h_rescaled, 's_rescaled' : s_rescaled})"
      ]
    },
    {
      "cell_type": "code",
      "execution_count": null,
      "metadata": {
        "id": "UiJbJGudJsNL"
      },
      "outputs": [],
      "source": [
        "# threshold luminance and saturation components\n",
        "threshold_df = rescaled_df[(20 <= rescaled_df['y_rescaled']) & (rescaled_df['y_rescaled'] <= 80) & (rescaled_df['s_rescaled'] > 0.1)]\n",
        "threshold_df['pixel_kind'] = pd.Series()\n",
        "threshold_df = threshold_df.reset_index()"
      ]
    },
    {
      "cell_type": "code",
      "execution_count": null,
      "metadata": {
        "id": "3gOTkOnuJsNL",
        "outputId": "e2a2c3c3-e50d-4f26-ea9b-4534391cae6e"
      },
      "outputs": [
        {
          "data": {
            "text/html": [
              "<div>\n",
              "<style scoped>\n",
              "    .dataframe tbody tr th:only-of-type {\n",
              "        vertical-align: middle;\n",
              "    }\n",
              "\n",
              "    .dataframe tbody tr th {\n",
              "        vertical-align: top;\n",
              "    }\n",
              "\n",
              "    .dataframe thead th {\n",
              "        text-align: right;\n",
              "    }\n",
              "</style>\n",
              "<table border=\"1\" class=\"dataframe\">\n",
              "  <thead>\n",
              "    <tr style=\"text-align: right;\">\n",
              "      <th></th>\n",
              "      <th>index</th>\n",
              "      <th>y_rescaled</th>\n",
              "      <th>h_rescaled</th>\n",
              "      <th>s_rescaled</th>\n",
              "      <th>pixel_kind</th>\n",
              "    </tr>\n",
              "  </thead>\n",
              "  <tbody>\n",
              "    <tr>\n",
              "      <th>0</th>\n",
              "      <td>0</td>\n",
              "      <td>23.137255</td>\n",
              "      <td>232</td>\n",
              "      <td>0.266667</td>\n",
              "      <td>Sky</td>\n",
              "    </tr>\n",
              "    <tr>\n",
              "      <th>1</th>\n",
              "      <td>1</td>\n",
              "      <td>23.529412</td>\n",
              "      <td>232</td>\n",
              "      <td>0.262745</td>\n",
              "      <td>Sky</td>\n",
              "    </tr>\n",
              "    <tr>\n",
              "      <th>2</th>\n",
              "      <td>2</td>\n",
              "      <td>23.921569</td>\n",
              "      <td>232</td>\n",
              "      <td>0.258824</td>\n",
              "      <td>Sky</td>\n",
              "    </tr>\n",
              "    <tr>\n",
              "      <th>3</th>\n",
              "      <td>3</td>\n",
              "      <td>24.313725</td>\n",
              "      <td>232</td>\n",
              "      <td>0.254902</td>\n",
              "      <td>Sky</td>\n",
              "    </tr>\n",
              "    <tr>\n",
              "      <th>4</th>\n",
              "      <td>4</td>\n",
              "      <td>24.313725</td>\n",
              "      <td>232</td>\n",
              "      <td>0.254902</td>\n",
              "      <td>Sky</td>\n",
              "    </tr>\n",
              "    <tr>\n",
              "      <th>...</th>\n",
              "      <td>...</td>\n",
              "      <td>...</td>\n",
              "      <td>...</td>\n",
              "      <td>...</td>\n",
              "      <td>...</td>\n",
              "    </tr>\n",
              "    <tr>\n",
              "      <th>507377</th>\n",
              "      <td>701245</td>\n",
              "      <td>59.607843</td>\n",
              "      <td>46</td>\n",
              "      <td>0.101961</td>\n",
              "      <td>Skin</td>\n",
              "    </tr>\n",
              "    <tr>\n",
              "      <th>507378</th>\n",
              "      <td>701246</td>\n",
              "      <td>60.000000</td>\n",
              "      <td>46</td>\n",
              "      <td>0.101961</td>\n",
              "      <td>Skin</td>\n",
              "    </tr>\n",
              "    <tr>\n",
              "      <th>507379</th>\n",
              "      <td>701247</td>\n",
              "      <td>60.000000</td>\n",
              "      <td>46</td>\n",
              "      <td>0.101961</td>\n",
              "      <td>Skin</td>\n",
              "    </tr>\n",
              "    <tr>\n",
              "      <th>507380</th>\n",
              "      <td>701248</td>\n",
              "      <td>60.392157</td>\n",
              "      <td>46</td>\n",
              "      <td>0.101961</td>\n",
              "      <td>Skin</td>\n",
              "    </tr>\n",
              "    <tr>\n",
              "      <th>507381</th>\n",
              "      <td>701249</td>\n",
              "      <td>60.000000</td>\n",
              "      <td>46</td>\n",
              "      <td>0.101961</td>\n",
              "      <td>Skin</td>\n",
              "    </tr>\n",
              "  </tbody>\n",
              "</table>\n",
              "<p>507382 rows × 5 columns</p>\n",
              "</div>"
            ],
            "text/plain": [
              "         index  y_rescaled  h_rescaled  s_rescaled pixel_kind\n",
              "0            0   23.137255         232    0.266667        Sky\n",
              "1            1   23.529412         232    0.262745        Sky\n",
              "2            2   23.921569         232    0.258824        Sky\n",
              "3            3   24.313725         232    0.254902        Sky\n",
              "4            4   24.313725         232    0.254902        Sky\n",
              "...        ...         ...         ...         ...        ...\n",
              "507377  701245   59.607843          46    0.101961       Skin\n",
              "507378  701246   60.000000          46    0.101961       Skin\n",
              "507379  701247   60.000000          46    0.101961       Skin\n",
              "507380  701248   60.392157          46    0.101961       Skin\n",
              "507381  701249   60.000000          46    0.101961       Skin\n",
              "\n",
              "[507382 rows x 5 columns]"
            ]
          },
          "execution_count": 256,
          "metadata": {},
          "output_type": "execute_result"
        }
      ],
      "source": [
        "threshold_df = threshold_df.case_when(\n",
        "    # condition, value\n",
        "    (25 <= threshold_df.h_rescaled) & (threshold_df.h_rescaled <= 70), \"Skin\",\n",
        "    (95 <= threshold_df.h_rescaled) & (threshold_df.h_rescaled <= 135), \"Grass\",\n",
        "    (185 <= threshold_df.h_rescaled) & (threshold_df.h_rescaled <= 260), \"Sky\",\n",
        "    np.nan,\n",
        "    column_name= \"pixel_kind\")\n",
        "threshold_df"
      ]
    },
    {
      "cell_type": "code",
      "execution_count": null,
      "metadata": {
        "id": "Eh9jYUhdJsNL",
        "outputId": "7e530a0d-dbdf-41c0-9bd5-32ad30ed7f43"
      },
      "outputs": [
        {
          "name": "stdout",
          "output_type": "stream",
          "text": [
            "290916 7307 25025 0.22718566561502157 0.3292142640551125 0.36397155785382557\n"
          ]
        }
      ],
      "source": [
        "# calculate pixels of three pixel kinds\n",
        "pixel_count = threshold_df.pixel_kind.value_counts()\n",
        "skin_count = pixel_count['Skin']\n",
        "grass_count = pixel_count['Grass']\n",
        "sky_count = pixel_count['Sky']\n",
        "\n",
        "# calculate the averaged saturation values for three pixel kinds\n",
        "skin_s = threshold_df.loc[threshold_df['pixel_kind'] == 'Skin', 's_rescaled'].mean()\n",
        "grass_s = threshold_df.loc[threshold_df['pixel_kind'] == 'Grass', 's_rescaled'].mean()\n",
        "sky_s = threshold_df.loc[threshold_df['pixel_kind'] == 'Sky', 's_rescaled'].mean()\n",
        "\n",
        "print(skin_count, grass_count, sky_count, skin_s, grass_s, sky_s)"
      ]
    },
    {
      "cell_type": "code",
      "execution_count": null,
      "metadata": {
        "id": "nprqyh7IJsNL",
        "outputId": "f3fe7d12-73b8-4dcd-def2-041e4803a050"
      },
      "outputs": [
        {
          "name": "stdout",
          "output_type": "stream",
          "text": [
            "0.5915869612173066 0.6626859251858856 0.9559603964448348\n",
            "0.6214029704309361\n"
          ]
        }
      ],
      "source": [
        "# Calculate local CNI values for three pixel kinds\n",
        "N_skin = math.exp(-0.5*((skin_s - 0.76)/0.52)**2)\n",
        "N_grass = math.exp(-0.5*((grass_s - 0.81)/0.53)**2)\n",
        "N_sky = math.exp(-0.5*((sky_s - 0.43)/0.22)**2)\n",
        "print(N_skin, N_grass, N_sky)\n",
        "\n",
        "# Calculate the global CNI values\n",
        "N_image = (skin_count*N_skin + grass_count * N_grass + sky_count * N_sky)/(skin_count + grass_count + sky_count)\n",
        "print(N_image)"
      ]
    },
    {
      "cell_type": "markdown",
      "metadata": {
        "id": "wyUunYDbJsNL"
      },
      "source": [
        "### 4. Contrast"
      ]
    },
    {
      "cell_type": "markdown",
      "metadata": {
        "id": "IDTTjC-UJsNL"
      },
      "source": [
        "Measures the relative variation of luminance. Reference: \n",
        "https://dl.acm.org/doi/pdf/10.1145/1526709.1526813"
      ]
    },
    {
      "cell_type": "markdown",
      "metadata": {
        "id": "xGtz5G0gJsNL"
      },
      "source": [
        "**How to calculate RMS contrast**\n",
        "$$C^{RMS} = \\frac{1}{n-1}*\\sum_{i=1}^{n}(x_{i} - \\bar{x})^2 $$\n",
        "\n",
        "where:\n",
        "\n",
        "$x$ is the luminance"
      ]
    },
    {
      "cell_type": "code",
      "execution_count": null,
      "metadata": {
        "id": "-tFKolkTJsNL"
      },
      "outputs": [],
      "source": [
        "def calculate_rms_contrast(yuv_image = yuv_image):\n",
        "    \"\"\"Calculate the contrast of an image\n",
        "    Require the luminance (Y) in YUV color space\n",
        "    \"\"\"\n",
        "    # Luminance mean / std\n",
        "    YUV_mean_std = cv2.meanStdDev(yuv_image)\n",
        "\n",
        "    contrast = float(YUV_mean_std[1][0])\n",
        "    return contrast"
      ]
    },
    {
      "cell_type": "code",
      "execution_count": null,
      "metadata": {
        "id": "xUFUar7IJsNL",
        "outputId": "0ec8d8b4-ab34-4439-9703-15d29ff18a70"
      },
      "outputs": [
        {
          "data": {
            "text/plain": [
              "39.95643430846404"
            ]
          },
          "execution_count": 277,
          "metadata": {},
          "output_type": "execute_result"
        }
      ],
      "source": [
        "calculate_rms_contrast(yuv_image)"
      ]
    },
    {
      "cell_type": "markdown",
      "metadata": {
        "id": "zExfezPOJsNL"
      },
      "source": [
        "### 5. RGB Contrast"
      ]
    },
    {
      "cell_type": "markdown",
      "metadata": {
        "id": "7bKOcvftJsNL"
      },
      "source": [
        "No reference, TBD"
      ]
    },
    {
      "cell_type": "markdown",
      "metadata": {
        "id": "_cGp-pYUJsNL"
      },
      "source": [
        "### 6. Sharpness"
      ]
    },
    {
      "cell_type": "markdown",
      "metadata": {
        "id": "8TxbS2V7JsNL"
      },
      "source": [
        "### Update: Use the package that calculates the sharpness instead, its in the image_quality_explore script folder"
      ]
    },
    {
      "cell_type": "markdown",
      "metadata": {
        "id": "BCEJXcWtJsNM"
      },
      "source": [
        "Measures the clarity and level of detail of an image. Reference: https://dl.acm.org/doi/pdf/10.1145/1526709.1526813\n",
        "\n",
        "https://dsp.stackexchange.com/questions/54687/python-how-to-compute-the-sharpness-features-of-image"
      ]
    },
    {
      "cell_type": "markdown",
      "metadata": {
        "id": "TAtzm8H8JsNM"
      },
      "source": [
        "**How to calculate sharpness**\n",
        "\n",
        "Sharpness can be determined as a function of its Laplacian, normalized by the local average luminance in the surroundings of each pixel:\n",
        "\n",
        "$$\\text{Sharpness} = \\sum_{x,y} \\frac{L(x,y)}{\\mu_{xy}}$$ \n",
        "\n",
        "with $L(x,y) = \\displaystyle \\frac{\\partial^{2} I}{\\partial x^2} + \\frac{\\partial^{2} I}{\\partial y^2} $, where $\\mu_{xy}$ denotes the local average luminance around pixel (x,y) "
      ]
    },
    {
      "cell_type": "markdown",
      "metadata": {
        "id": "6V7MmHiKJsNM"
      },
      "source": [
        "The Laplacian is calculated through Laplacian function in OpenCV, the local average luminance is calculated through blurring. The nature of blurring is to average a neighborhood of pixels within a given radius, get the local average luminance from the blurred image"
      ]
    },
    {
      "cell_type": "code",
      "execution_count": null,
      "metadata": {
        "id": "miQvrqqQJsNM"
      },
      "outputs": [],
      "source": [
        "# def calculate_sharpness(image = image, yuv_image = yuv_image):\n",
        "#     \"\"\"Calculate the sharpness of the image\n",
        "#     Require the BGR image, and the luminance (Y) in YUV color space\n",
        "#     \"\"\"\n",
        "#     # Calculate the Laplacian of the luminance, use pixels in 3 X 3 spaces to calculate local average\n",
        "#     y = yuv_image[:,:,0]\n",
        "#     lap_y = cv2.Laplacian(y, cv2.CV_16S, ksize = 3)\n",
        "    \n",
        "#     # Calculate the local average of the luminance by utilizing blurring\n",
        "#     # Get the blurred BGR image, use pixels in 3 x 3 spaces to calculate local average\n",
        "#     local_mean_blur = cv2.GaussianBlur(image,(3,3),cv2.BORDER_DEFAULT)\n",
        "    \n",
        "#     # Convert to YUV image to get the local average luminance\n",
        "#     avg_yuv = cv2.cvtColor(local_mean_blur, cv2.COLOR_BGR2YUV)\n",
        "#     avg_y = avg_yuv[:,:,0]\n",
        "    \n",
        "#     # Calculate the Sharpness through pd.Series operation\n",
        "#     lap_y_series = pd.Series(lap_y.flatten())\n",
        "#     avg_y_series = pd.Series(avg_y.flatten()).apply(int)\n",
        "#     sharpness = sum(lap_y_series/avg_y_series)\n",
        "    \n",
        "#     return sharpness"
      ]
    },
    {
      "cell_type": "code",
      "execution_count": null,
      "metadata": {
        "id": "wL6sVUwBJsNM",
        "outputId": "5313b0e4-7bd7-4a6f-dfcf-0c5032f13281"
      },
      "outputs": [
        {
          "data": {
            "text/plain": [
              "5690.682954811724"
            ]
          },
          "execution_count": 348,
          "metadata": {},
          "output_type": "execute_result"
        }
      ],
      "source": [
        "calculate_sharpness(image, yuv_image)"
      ]
    },
    {
      "cell_type": "code",
      "execution_count": null,
      "metadata": {
        "id": "T5bPVOOXJsNM",
        "outputId": "80e9bef9-fcff-4384-a17c-51b7782ff39c"
      },
      "outputs": [
        {
          "data": {
            "text/plain": [
              "0         24\n",
              "1         16\n",
              "2         12\n",
              "3          8\n",
              "4          8\n",
              "          ..\n",
              "701245     0\n",
              "701246    -4\n",
              "701247     4\n",
              "701248    -8\n",
              "701249     8\n",
              "Length: 701250, dtype: int16"
            ]
          },
          "execution_count": 334,
          "metadata": {},
          "output_type": "execute_result"
        }
      ],
      "source": [
        "lap_y_series = pd.Series(lap_y.flatten())\n",
        "lap_y_series"
      ]
    },
    {
      "cell_type": "code",
      "execution_count": null,
      "metadata": {
        "id": "ZXc0hAz8JsNM",
        "outputId": "23529006-4cb2-41c4-fcd1-67e918c1e583"
      },
      "outputs": [
        {
          "data": {
            "text/plain": [
              "0          61\n",
              "1          61\n",
              "2          62\n",
              "3          63\n",
              "4          63\n",
              "         ... \n",
              "701245    152\n",
              "701246    153\n",
              "701247    153\n",
              "701248    153\n",
              "701249    154\n",
              "Length: 701250, dtype: int64"
            ]
          },
          "execution_count": 335,
          "metadata": {},
          "output_type": "execute_result"
        }
      ],
      "source": [
        "avg_y_series = pd.Series(avg_y.flatten()).apply(int)\n",
        "avg_y_series"
      ]
    },
    {
      "cell_type": "code",
      "execution_count": null,
      "metadata": {
        "id": "tdh4VHmlJsNM",
        "outputId": "3dc4c32b-1611-49b9-fdd8-9cd8d6d40be2"
      },
      "outputs": [
        {
          "data": {
            "text/plain": [
              "5690.682954811724"
            ]
          },
          "execution_count": 337,
          "metadata": {},
          "output_type": "execute_result"
        }
      ],
      "source": [
        "sum(lap_y_series/avg_y_series)"
      ]
    },
    {
      "cell_type": "code",
      "execution_count": null,
      "metadata": {
        "id": "LujLuajGJsNM"
      },
      "outputs": [],
      "source": [
        "# The nature of blurring is to average a neighborhood of pixels within a given radius\n",
        "# Get the blurred BGR image\n",
        "local_mean_blur = cv2.GaussianBlur(image,(3,3),cv2.BORDER_DEFAULT)\n",
        "# Convert to YUV image to get the local average luminance\n",
        "avg_yuv = cv2.cvtColor(local_mean_blur, cv2.COLOR_BGR2YUV)\n",
        "avg_y = avg_yuv[:,:,0]"
      ]
    },
    {
      "cell_type": "code",
      "execution_count": null,
      "metadata": {
        "id": "6XJxt5AkJsNM",
        "outputId": "8bcba653-2f20-4833-d8c6-ae255b4c038e"
      },
      "outputs": [
        {
          "data": {
            "text/plain": [
              "array([[ 61,  61,  62, ...,  80,  80,  80],\n",
              "       [ 62,  62,  63, ...,  79,  79,  79],\n",
              "       [ 64,  64,  64, ...,  77,  77,  77],\n",
              "       ...,\n",
              "       [138, 138, 138, ..., 153, 153, 154],\n",
              "       [138, 138, 138, ..., 153, 153, 154],\n",
              "       [138, 138, 138, ..., 153, 153, 154]], dtype=uint8)"
            ]
          },
          "execution_count": 316,
          "metadata": {},
          "output_type": "execute_result"
        }
      ],
      "source": [
        "avg_y"
      ]
    },
    {
      "cell_type": "code",
      "execution_count": null,
      "metadata": {
        "id": "g5T4iofPJsNM"
      },
      "outputs": [],
      "source": [
        "cv2.imshow(\"Display window\", lap_1_abs)\n",
        "k = cv2.waitKey(0)"
      ]
    },
    {
      "cell_type": "code",
      "execution_count": null,
      "metadata": {
        "id": "NDjUE98LJsNM"
      },
      "outputs": [],
      "source": [
        "cv2.imshow(\"Display window\", cv2.GaussianBlur(image,(3,3),cv2.BORDER_DEFAULT))\n",
        "k = cv2.waitKey(0)"
      ]
    },
    {
      "cell_type": "markdown",
      "metadata": {
        "id": "ffDJ4sBtJsNM"
      },
      "source": [
        "### 7. Color Diversity"
      ]
    },
    {
      "cell_type": "markdown",
      "metadata": {
        "id": "GUlaXAamJsNM"
      },
      "source": [
        "### 8. Color Harmony"
      ]
    },
    {
      "cell_type": "code",
      "execution_count": null,
      "metadata": {
        "id": "O_KRhejeJsNM"
      },
      "outputs": [],
      "source": [
        "# This code set all red pixels to zero\n",
        "# image[:,:,2] = 0\n",
        "# image = cv2.merge((b,g,r))"
      ]
    },
    {
      "cell_type": "code",
      "execution_count": null,
      "metadata": {
        "id": "YH2YW_VGJsNM",
        "outputId": "243bbb74-5724-4c6d-d542-05cfb23d4e16"
      },
      "outputs": [
        {
          "data": {
            "text/plain": [
              "array([[[120, 255, 255]]], dtype=uint8)"
            ]
          },
          "execution_count": 111,
          "metadata": {},
          "output_type": "execute_result"
        }
      ],
      "source": [
        "cv2.cvtColor(np.uint8([[[255,0,0 ]]]),cv2.COLOR_BGR2HSV)"
      ]
    },
    {
      "cell_type": "code",
      "execution_count": null,
      "metadata": {
        "id": "x-7EcWk8JsNM"
      },
      "outputs": [],
      "source": []
    },
    {
      "cell_type": "code",
      "execution_count": null,
      "metadata": {
        "id": "I3GrBxMWJsNM"
      },
      "outputs": [],
      "source": [
        "cv2.line(image, (0,0), (100,100), (255,0,0), 5)\n",
        "cv2.imshow(\"Display window\", image)\n",
        "k = cv2.waitKey(0)"
      ]
    },
    {
      "cell_type": "code",
      "execution_count": null,
      "metadata": {
        "id": "iBCZhdq0JsNM"
      },
      "outputs": [],
      "source": [
        "# import the library opencv\n",
        "import cv2\n",
        "# globbing utility.\n",
        "import glob\n",
        "# select the path\n",
        "path = \"C:/Users/shiho/Aij/SA_Instagram/opencv/image_file/*.*\"\n",
        "for file in glob.glob(path):\n",
        "    image_read = cv2.imread(file)\n",
        "    # conversion numpy array into rgb image to show\n",
        "    c = cv2.cvtColor(image_read, cv2.COLOR_BGR2RGB)\n",
        "    cv2.imshow('Color image', c)\n",
        "    # wait for 1 second\n",
        "    k = cv2.waitKey(1000)\n",
        "    # destroy the window\n",
        "    cv2.destroyAllWindows()"
      ]
    },
    {
      "cell_type": "code",
      "execution_count": null,
      "metadata": {
        "id": "lAKixr-0JsNM"
      },
      "outputs": [],
      "source": [
        "from os import listdir\n",
        "from os.path import isfile, join\n",
        "import numpy\n",
        "import cv2\n",
        "\n",
        "mypath='C:/Users/shiho/Aij/SA_Instagram/opencv/image_file'\n",
        "onlyfiles = [ f for f in listdir(mypath) if isfile(join(mypath,f)) ]\n",
        "images = numpy.empty(len(onlyfiles), dtype=object)\n",
        "for n in range(0, len(onlyfiles)):\n",
        "    images[n] = cv2.imread( join(mypath,onlyfiles[n]) )"
      ]
    },
    {
      "cell_type": "code",
      "execution_count": null,
      "metadata": {
        "id": "T-XB21wUJsNM"
      },
      "outputs": [],
      "source": [
        "mylist = []\n",
        "loaded,mylist = cv2.imreadmulti(mats = mylist, filename = \"C:/Users/shiho/Aij/SA_Instagram/opencv/image_file/*.*\", flags = cv2.IMREAD_ANYCOLOR )\n",
        "\n",
        "# alternative usage \n",
        "#loaded,mylist = cv2.imreadmulti(mats = mylist, start =0, count = 2, filename = \"2page.tiff\", flags = cv2.IMREAD_ANYCOLOR )\n",
        "\n",
        "#cv2.imshow(\"mylist[0]\",mylist[0])\n",
        "#cv2.imshow(\"mylist[1]\",mylist[1])\n",
        "#cv2.waitKey()"
      ]
    },
    {
      "cell_type": "code",
      "execution_count": null,
      "metadata": {
        "id": "1MJBiKGuJsNM",
        "outputId": "226d9386-4eb3-4828-c7c3-3794354db1ce"
      },
      "outputs": [
        {
          "data": {
            "text/plain": [
              "False"
            ]
          },
          "execution_count": 34,
          "metadata": {},
          "output_type": "execute_result"
        }
      ],
      "source": [
        "loaded"
      ]
    },
    {
      "cell_type": "code",
      "execution_count": null,
      "metadata": {
        "id": "4zXetg0EJsNN"
      },
      "outputs": [],
      "source": [
        "ti_data = pd.read_csv(\"collecting_test.csv\", encoding= \"UTF-8\")"
      ]
    },
    {
      "cell_type": "code",
      "execution_count": null,
      "metadata": {
        "id": "0XIy3KaQJsNN",
        "outputId": "2e2342bb-8105-4403-9fe4-97277e3dd1d0"
      },
      "outputs": [
        {
          "data": {
            "text/html": [
              "<div>\n",
              "<style scoped>\n",
              "    .dataframe tbody tr th:only-of-type {\n",
              "        vertical-align: middle;\n",
              "    }\n",
              "\n",
              "    .dataframe tbody tr th {\n",
              "        vertical-align: top;\n",
              "    }\n",
              "\n",
              "    .dataframe thead th {\n",
              "        text-align: right;\n",
              "    }\n",
              "</style>\n",
              "<table border=\"1\" class=\"dataframe\">\n",
              "  <thead>\n",
              "    <tr style=\"text-align: right;\">\n",
              "      <th></th>\n",
              "      <th>user_id</th>\n",
              "      <th>status_id</th>\n",
              "      <th>created_at</th>\n",
              "      <th>screen_name</th>\n",
              "      <th>text</th>\n",
              "      <th>source</th>\n",
              "      <th>display_text_width</th>\n",
              "      <th>reply_to_status_id</th>\n",
              "      <th>reply_to_user_id</th>\n",
              "      <th>reply_to_screen_name</th>\n",
              "      <th>...</th>\n",
              "      <th>statuses_count</th>\n",
              "      <th>favourites_count</th>\n",
              "      <th>account_created_at</th>\n",
              "      <th>verified</th>\n",
              "      <th>profile_url</th>\n",
              "      <th>profile_expanded_url</th>\n",
              "      <th>account_lang</th>\n",
              "      <th>profile_banner_url</th>\n",
              "      <th>profile_background_url</th>\n",
              "      <th>profile_image_url</th>\n",
              "    </tr>\n",
              "  </thead>\n",
              "  <tbody>\n",
              "    <tr>\n",
              "      <th>0</th>\n",
              "      <td>x2794120980</td>\n",
              "      <td>x1584978238082023424</td>\n",
              "      <td>2022-10-25 18:40:34</td>\n",
              "      <td>duelissorry</td>\n",
              "      <td>For sale: Last 1 tickets of Dota 2 The Interna...</td>\n",
              "      <td>Twitter Web App</td>\n",
              "      <td>175</td>\n",
              "      <td>NaN</td>\n",
              "      <td>NaN</td>\n",
              "      <td>NaN</td>\n",
              "      <td>...</td>\n",
              "      <td>14850</td>\n",
              "      <td>15523</td>\n",
              "      <td>2014-09-06 15:26:57</td>\n",
              "      <td>False</td>\n",
              "      <td>NaN</td>\n",
              "      <td>NaN</td>\n",
              "      <td>NaN</td>\n",
              "      <td>https://pbs.twimg.com/profile_banners/27941209...</td>\n",
              "      <td>http://abs.twimg.com/images/themes/theme1/bg.png</td>\n",
              "      <td>http://pbs.twimg.com/profile_images/1582398120...</td>\n",
              "    </tr>\n",
              "    <tr>\n",
              "      <th>1</th>\n",
              "      <td>x2794120980</td>\n",
              "      <td>x1584906333236899841</td>\n",
              "      <td>2022-10-25 13:54:50</td>\n",
              "      <td>duelissorry</td>\n",
              "      <td>Still have 1 ticket, Buyer wanted a refund. \\r...</td>\n",
              "      <td>Twitter Web App</td>\n",
              "      <td>145</td>\n",
              "      <td>NaN</td>\n",
              "      <td>NaN</td>\n",
              "      <td>NaN</td>\n",
              "      <td>...</td>\n",
              "      <td>14850</td>\n",
              "      <td>15523</td>\n",
              "      <td>2014-09-06 15:26:57</td>\n",
              "      <td>False</td>\n",
              "      <td>NaN</td>\n",
              "      <td>NaN</td>\n",
              "      <td>NaN</td>\n",
              "      <td>https://pbs.twimg.com/profile_banners/27941209...</td>\n",
              "      <td>http://abs.twimg.com/images/themes/theme1/bg.png</td>\n",
              "      <td>http://pbs.twimg.com/profile_images/1582398120...</td>\n",
              "    </tr>\n",
              "    <tr>\n",
              "      <th>2</th>\n",
              "      <td>x2794120980</td>\n",
              "      <td>x1584579213063229440</td>\n",
              "      <td>2022-10-24 16:14:59</td>\n",
              "      <td>duelissorry</td>\n",
              "      <td>last 1 finals ticket for 540 sgd each pls dm m...</td>\n",
              "      <td>Twitter Web App</td>\n",
              "      <td>122</td>\n",
              "      <td>NaN</td>\n",
              "      <td>NaN</td>\n",
              "      <td>NaN</td>\n",
              "      <td>...</td>\n",
              "      <td>14850</td>\n",
              "      <td>15523</td>\n",
              "      <td>2014-09-06 15:26:57</td>\n",
              "      <td>False</td>\n",
              "      <td>NaN</td>\n",
              "      <td>NaN</td>\n",
              "      <td>NaN</td>\n",
              "      <td>https://pbs.twimg.com/profile_banners/27941209...</td>\n",
              "      <td>http://abs.twimg.com/images/themes/theme1/bg.png</td>\n",
              "      <td>http://pbs.twimg.com/profile_images/1582398120...</td>\n",
              "    </tr>\n",
              "    <tr>\n",
              "      <th>3</th>\n",
              "      <td>x2794120980</td>\n",
              "      <td>x1584537158609956864</td>\n",
              "      <td>2022-10-24 13:27:52</td>\n",
              "      <td>duelissorry</td>\n",
              "      <td>last 2 finals ticket for 580 sgd each pls dm m...</td>\n",
              "      <td>Twitter Web App</td>\n",
              "      <td>122</td>\n",
              "      <td>NaN</td>\n",
              "      <td>NaN</td>\n",
              "      <td>NaN</td>\n",
              "      <td>...</td>\n",
              "      <td>14850</td>\n",
              "      <td>15523</td>\n",
              "      <td>2014-09-06 15:26:57</td>\n",
              "      <td>False</td>\n",
              "      <td>NaN</td>\n",
              "      <td>NaN</td>\n",
              "      <td>NaN</td>\n",
              "      <td>https://pbs.twimg.com/profile_banners/27941209...</td>\n",
              "      <td>http://abs.twimg.com/images/themes/theme1/bg.png</td>\n",
              "      <td>http://pbs.twimg.com/profile_images/1582398120...</td>\n",
              "    </tr>\n",
              "    <tr>\n",
              "      <th>4</th>\n",
              "      <td>x703873696113373184</td>\n",
              "      <td>x1584976386070310912</td>\n",
              "      <td>2022-10-25 18:33:12</td>\n",
              "      <td>DarcyMargallo</td>\n",
              "      <td>Another worlds, another year to clown on Riot ...</td>\n",
              "      <td>Twitter for Android</td>\n",
              "      <td>191</td>\n",
              "      <td>NaN</td>\n",
              "      <td>NaN</td>\n",
              "      <td>NaN</td>\n",
              "      <td>...</td>\n",
              "      <td>4937</td>\n",
              "      <td>109224</td>\n",
              "      <td>2016-02-28 09:25:41</td>\n",
              "      <td>False</td>\n",
              "      <td>https://t.co/fD3IxK2aGH</td>\n",
              "      <td>https://myanimelist.net/profile/DarcyMargallo</td>\n",
              "      <td>NaN</td>\n",
              "      <td>https://pbs.twimg.com/profile_banners/70387369...</td>\n",
              "      <td>http://abs.twimg.com/images/themes/theme1/bg.png</td>\n",
              "      <td>http://pbs.twimg.com/profile_images/1286551853...</td>\n",
              "    </tr>\n",
              "    <tr>\n",
              "      <th>5</th>\n",
              "      <td>x2340148272</td>\n",
              "      <td>x1584975267075801089</td>\n",
              "      <td>2022-10-25 18:28:45</td>\n",
              "      <td>MalystryxGDS</td>\n",
              "      <td>My journey begins to Singapore for #TI11 !! UK...</td>\n",
              "      <td>Twitter for Android</td>\n",
              "      <td>222</td>\n",
              "      <td>NaN</td>\n",
              "      <td>NaN</td>\n",
              "      <td>NaN</td>\n",
              "      <td>...</td>\n",
              "      <td>13477</td>\n",
              "      <td>22510</td>\n",
              "      <td>2014-02-12 11:00:06</td>\n",
              "      <td>True</td>\n",
              "      <td>https://t.co/TzXdQFV9JA</td>\n",
              "      <td>https://esports.gg/author/malystryx/</td>\n",
              "      <td>NaN</td>\n",
              "      <td>https://pbs.twimg.com/profile_banners/23401482...</td>\n",
              "      <td>http://abs.twimg.com/images/themes/theme1/bg.png</td>\n",
              "      <td>http://pbs.twimg.com/profile_images/1462343780...</td>\n",
              "    </tr>\n",
              "    <tr>\n",
              "      <th>6</th>\n",
              "      <td>x781083964148768769</td>\n",
              "      <td>x1584970014888599552</td>\n",
              "      <td>2022-10-25 18:07:53</td>\n",
              "      <td>ggbet_en</td>\n",
              "      <td>He approached AWF at a LAN cafe and asked if h...</td>\n",
              "      <td>Twitter Web App</td>\n",
              "      <td>225</td>\n",
              "      <td>NaN</td>\n",
              "      <td>NaN</td>\n",
              "      <td>NaN</td>\n",
              "      <td>...</td>\n",
              "      <td>4832</td>\n",
              "      <td>3376</td>\n",
              "      <td>2016-09-28 10:51:43</td>\n",
              "      <td>False</td>\n",
              "      <td>https://t.co/zOtFnacNXF</td>\n",
              "      <td>https://gg.bet</td>\n",
              "      <td>NaN</td>\n",
              "      <td>https://pbs.twimg.com/profile_banners/78108396...</td>\n",
              "      <td>NaN</td>\n",
              "      <td>http://pbs.twimg.com/profile_images/1576706515...</td>\n",
              "    </tr>\n",
              "    <tr>\n",
              "      <th>7</th>\n",
              "      <td>x781083964148768769</td>\n",
              "      <td>x1584551552949575680</td>\n",
              "      <td>2022-10-24 14:25:04</td>\n",
              "      <td>ggbet_en</td>\n",
              "      <td>Let's take a look at some #TI11 main event sta...</td>\n",
              "      <td>Twitter Web App</td>\n",
              "      <td>122</td>\n",
              "      <td>NaN</td>\n",
              "      <td>NaN</td>\n",
              "      <td>NaN</td>\n",
              "      <td>...</td>\n",
              "      <td>4832</td>\n",
              "      <td>3376</td>\n",
              "      <td>2016-09-28 10:51:43</td>\n",
              "      <td>False</td>\n",
              "      <td>https://t.co/zOtFnacNXF</td>\n",
              "      <td>https://gg.bet</td>\n",
              "      <td>NaN</td>\n",
              "      <td>https://pbs.twimg.com/profile_banners/78108396...</td>\n",
              "      <td>NaN</td>\n",
              "      <td>http://pbs.twimg.com/profile_images/1576706515...</td>\n",
              "    </tr>\n",
              "    <tr>\n",
              "      <th>8</th>\n",
              "      <td>x781083964148768769</td>\n",
              "      <td>x1584592337233055744</td>\n",
              "      <td>2022-10-24 17:07:08</td>\n",
              "      <td>ggbet_en</td>\n",
              "      <td>While waiting for #TI11 finals, let's do a lit...</td>\n",
              "      <td>Twitter Web App</td>\n",
              "      <td>267</td>\n",
              "      <td>NaN</td>\n",
              "      <td>NaN</td>\n",
              "      <td>NaN</td>\n",
              "      <td>...</td>\n",
              "      <td>4832</td>\n",
              "      <td>3376</td>\n",
              "      <td>2016-09-28 10:51:43</td>\n",
              "      <td>False</td>\n",
              "      <td>https://t.co/zOtFnacNXF</td>\n",
              "      <td>https://gg.bet</td>\n",
              "      <td>NaN</td>\n",
              "      <td>https://pbs.twimg.com/profile_banners/78108396...</td>\n",
              "      <td>NaN</td>\n",
              "      <td>http://pbs.twimg.com/profile_images/1576706515...</td>\n",
              "    </tr>\n",
              "    <tr>\n",
              "      <th>9</th>\n",
              "      <td>x56177032</td>\n",
              "      <td>x1584968094652723200</td>\n",
              "      <td>2022-10-25 18:00:15</td>\n",
              "      <td>jankenqueen</td>\n",
              "      <td>boyfriend just called me to ask \"DID YOU WATCH...</td>\n",
              "      <td>Twitter Web App</td>\n",
              "      <td>124</td>\n",
              "      <td>NaN</td>\n",
              "      <td>NaN</td>\n",
              "      <td>NaN</td>\n",
              "      <td>...</td>\n",
              "      <td>33667</td>\n",
              "      <td>14162</td>\n",
              "      <td>2009-07-12 20:03:07</td>\n",
              "      <td>False</td>\n",
              "      <td>https://t.co/RWb5RRbsk4</td>\n",
              "      <td>https://www.instagram.com/pinknomozart/</td>\n",
              "      <td>NaN</td>\n",
              "      <td>https://pbs.twimg.com/profile_banners/56177032...</td>\n",
              "      <td>http://abs.twimg.com/images/themes/theme1/bg.png</td>\n",
              "      <td>http://pbs.twimg.com/profile_images/1247092687...</td>\n",
              "    </tr>\n",
              "    <tr>\n",
              "      <th>10</th>\n",
              "      <td>x1227015854</td>\n",
              "      <td>x1584960967431036928</td>\n",
              "      <td>2022-10-25 17:31:56</td>\n",
              "      <td>Dota2Lounge</td>\n",
              "      <td>This will be the venue for the last 2 days of ...</td>\n",
              "      <td>TweetDeck</td>\n",
              "      <td>58</td>\n",
              "      <td>NaN</td>\n",
              "      <td>NaN</td>\n",
              "      <td>NaN</td>\n",
              "      <td>...</td>\n",
              "      <td>7473</td>\n",
              "      <td>2621</td>\n",
              "      <td>2013-02-28 08:07:55</td>\n",
              "      <td>False</td>\n",
              "      <td>https://t.co/QJxZvJ5oEz</td>\n",
              "      <td>http://dota2lounge.com</td>\n",
              "      <td>NaN</td>\n",
              "      <td>https://pbs.twimg.com/profile_banners/12270158...</td>\n",
              "      <td>http://abs.twimg.com/images/themes/theme1/bg.png</td>\n",
              "      <td>http://pbs.twimg.com/profile_images/1457730043...</td>\n",
              "    </tr>\n",
              "    <tr>\n",
              "      <th>11</th>\n",
              "      <td>x1227015854</td>\n",
              "      <td>x1584892682412883969</td>\n",
              "      <td>2022-10-25 13:00:36</td>\n",
              "      <td>Dota2Lounge</td>\n",
              "      <td>Look at this amazing phoenix set for the colle...</td>\n",
              "      <td>TweetDeck</td>\n",
              "      <td>82</td>\n",
              "      <td>NaN</td>\n",
              "      <td>NaN</td>\n",
              "      <td>NaN</td>\n",
              "      <td>...</td>\n",
              "      <td>7473</td>\n",
              "      <td>2621</td>\n",
              "      <td>2013-02-28 08:07:55</td>\n",
              "      <td>False</td>\n",
              "      <td>https://t.co/QJxZvJ5oEz</td>\n",
              "      <td>http://dota2lounge.com</td>\n",
              "      <td>NaN</td>\n",
              "      <td>https://pbs.twimg.com/profile_banners/12270158...</td>\n",
              "      <td>http://abs.twimg.com/images/themes/theme1/bg.png</td>\n",
              "      <td>http://pbs.twimg.com/profile_images/1457730043...</td>\n",
              "    </tr>\n",
              "    <tr>\n",
              "      <th>12</th>\n",
              "      <td>x25503818</td>\n",
              "      <td>x1584953711243440128</td>\n",
              "      <td>2022-10-25 17:03:06</td>\n",
              "      <td>syasyapuff</td>\n",
              "      <td>Hi friends! Does anyone know if there has been...</td>\n",
              "      <td>Twitter for iPhone</td>\n",
              "      <td>75</td>\n",
              "      <td>NaN</td>\n",
              "      <td>NaN</td>\n",
              "      <td>NaN</td>\n",
              "      <td>...</td>\n",
              "      <td>17554</td>\n",
              "      <td>3165</td>\n",
              "      <td>2009-03-20 13:38:54</td>\n",
              "      <td>True</td>\n",
              "      <td>https://t.co/wVEL8DavZO</td>\n",
              "      <td>http://twitch.tv/syasyapuff</td>\n",
              "      <td>NaN</td>\n",
              "      <td>https://pbs.twimg.com/profile_banners/25503818...</td>\n",
              "      <td>http://abs.twimg.com/images/themes/theme9/bg.gif</td>\n",
              "      <td>http://pbs.twimg.com/profile_images/1162614809...</td>\n",
              "    </tr>\n",
              "    <tr>\n",
              "      <th>13</th>\n",
              "      <td>x25503818</td>\n",
              "      <td>x1584829016611045376</td>\n",
              "      <td>2022-10-25 08:47:36</td>\n",
              "      <td>syasyapuff</td>\n",
              "      <td>Can’t wait to attend my 3rd @dota2 TI with @se...</td>\n",
              "      <td>Twitter for iPhone</td>\n",
              "      <td>173</td>\n",
              "      <td>NaN</td>\n",
              "      <td>NaN</td>\n",
              "      <td>NaN</td>\n",
              "      <td>...</td>\n",
              "      <td>17554</td>\n",
              "      <td>3165</td>\n",
              "      <td>2009-03-20 13:38:54</td>\n",
              "      <td>True</td>\n",
              "      <td>https://t.co/wVEL8DavZO</td>\n",
              "      <td>http://twitch.tv/syasyapuff</td>\n",
              "      <td>NaN</td>\n",
              "      <td>https://pbs.twimg.com/profile_banners/25503818...</td>\n",
              "      <td>http://abs.twimg.com/images/themes/theme9/bg.gif</td>\n",
              "      <td>http://pbs.twimg.com/profile_images/1162614809...</td>\n",
              "    </tr>\n",
              "    <tr>\n",
              "      <th>14</th>\n",
              "      <td>x113029646</td>\n",
              "      <td>x1584951131801006081</td>\n",
              "      <td>2022-10-25 16:52:51</td>\n",
              "      <td>VipPlaymaker</td>\n",
              "      <td>VIP OPEN WEEKLY QUESTS 1 - 8 BONUS WEEK https:...</td>\n",
              "      <td>Twitter Web App</td>\n",
              "      <td>155</td>\n",
              "      <td>NaN</td>\n",
              "      <td>NaN</td>\n",
              "      <td>NaN</td>\n",
              "      <td>...</td>\n",
              "      <td>775</td>\n",
              "      <td>1</td>\n",
              "      <td>2010-02-10 13:30:34</td>\n",
              "      <td>False</td>\n",
              "      <td>https://t.co/ItqZrQg14h</td>\n",
              "      <td>http://bit.ly/VipPlaymaker</td>\n",
              "      <td>NaN</td>\n",
              "      <td>https://pbs.twimg.com/profile_banners/11302964...</td>\n",
              "      <td>http://abs.twimg.com/images/themes/theme1/bg.png</td>\n",
              "      <td>http://pbs.twimg.com/profile_images/1532341571...</td>\n",
              "    </tr>\n",
              "    <tr>\n",
              "      <th>15</th>\n",
              "      <td>x309477766</td>\n",
              "      <td>x1584949570483937281</td>\n",
              "      <td>2022-10-25 16:46:39</td>\n",
              "      <td>chenwilliam</td>\n",
              "      <td>For sale: Last 2 tickets of Dota 2 The Interna...</td>\n",
              "      <td>Twitter for Android</td>\n",
              "      <td>175</td>\n",
              "      <td>NaN</td>\n",
              "      <td>NaN</td>\n",
              "      <td>NaN</td>\n",
              "      <td>...</td>\n",
              "      <td>58</td>\n",
              "      <td>453</td>\n",
              "      <td>2011-06-02 04:42:00</td>\n",
              "      <td>False</td>\n",
              "      <td>NaN</td>\n",
              "      <td>NaN</td>\n",
              "      <td>NaN</td>\n",
              "      <td>https://pbs.twimg.com/profile_banners/30947776...</td>\n",
              "      <td>http://abs.twimg.com/images/themes/theme13/bg.gif</td>\n",
              "      <td>http://pbs.twimg.com/profile_images/7122113682...</td>\n",
              "    </tr>\n",
              "    <tr>\n",
              "      <th>16</th>\n",
              "      <td>x900664101986328580</td>\n",
              "      <td>x1584592555815075849</td>\n",
              "      <td>2022-10-24 17:08:00</td>\n",
              "      <td>1xBet_Esports</td>\n",
              "      <td>Let them FINNISH &lt;U+0001F1EB&gt;&lt;U+0001F1EE&gt; #TI1...</td>\n",
              "      <td>Twitter Web App</td>\n",
              "      <td>67</td>\n",
              "      <td>NaN</td>\n",
              "      <td>NaN</td>\n",
              "      <td>NaN</td>\n",
              "      <td>...</td>\n",
              "      <td>5759</td>\n",
              "      <td>2595</td>\n",
              "      <td>2017-08-24 10:20:30</td>\n",
              "      <td>False</td>\n",
              "      <td>https://t.co/ZKrCsINyHT</td>\n",
              "      <td>http://1x-smart.com/1xesports</td>\n",
              "      <td>NaN</td>\n",
              "      <td>https://pbs.twimg.com/profile_banners/90066410...</td>\n",
              "      <td>http://abs.twimg.com/images/themes/theme1/bg.png</td>\n",
              "      <td>http://pbs.twimg.com/profile_images/1351911956...</td>\n",
              "    </tr>\n",
              "    <tr>\n",
              "      <th>17</th>\n",
              "      <td>x900664101986328580</td>\n",
              "      <td>x1584568393574719488</td>\n",
              "      <td>2022-10-24 15:31:59</td>\n",
              "      <td>1xBet_Esports</td>\n",
              "      <td>Only two players are still eligible for a two-...</td>\n",
              "      <td>Twitter Web App</td>\n",
              "      <td>121</td>\n",
              "      <td>NaN</td>\n",
              "      <td>NaN</td>\n",
              "      <td>NaN</td>\n",
              "      <td>...</td>\n",
              "      <td>5759</td>\n",
              "      <td>2595</td>\n",
              "      <td>2017-08-24 10:20:30</td>\n",
              "      <td>False</td>\n",
              "      <td>https://t.co/ZKrCsINyHT</td>\n",
              "      <td>http://1x-smart.com/1xesports</td>\n",
              "      <td>NaN</td>\n",
              "      <td>https://pbs.twimg.com/profile_banners/90066410...</td>\n",
              "      <td>http://abs.twimg.com/images/themes/theme1/bg.png</td>\n",
              "      <td>http://pbs.twimg.com/profile_images/1351911956...</td>\n",
              "    </tr>\n",
              "    <tr>\n",
              "      <th>18</th>\n",
              "      <td>x900664101986328580</td>\n",
              "      <td>x1584532709401317376</td>\n",
              "      <td>2022-10-24 13:10:11</td>\n",
              "      <td>1xBet_Esports</td>\n",
              "      <td>His world tour concert was the reason of such ...</td>\n",
              "      <td>Twitter Web App</td>\n",
              "      <td>78</td>\n",
              "      <td>NaN</td>\n",
              "      <td>NaN</td>\n",
              "      <td>NaN</td>\n",
              "      <td>...</td>\n",
              "      <td>5759</td>\n",
              "      <td>2595</td>\n",
              "      <td>2017-08-24 10:20:30</td>\n",
              "      <td>False</td>\n",
              "      <td>https://t.co/ZKrCsINyHT</td>\n",
              "      <td>http://1x-smart.com/1xesports</td>\n",
              "      <td>NaN</td>\n",
              "      <td>https://pbs.twimg.com/profile_banners/90066410...</td>\n",
              "      <td>http://abs.twimg.com/images/themes/theme1/bg.png</td>\n",
              "      <td>http://pbs.twimg.com/profile_images/1351911956...</td>\n",
              "    </tr>\n",
              "    <tr>\n",
              "      <th>19</th>\n",
              "      <td>x900664101986328580</td>\n",
              "      <td>x1584884227816013824</td>\n",
              "      <td>2022-10-25 12:27:00</td>\n",
              "      <td>1xBet_Esports</td>\n",
              "      <td>Play-off statistics #TI11 &lt;U+0001F4CA&gt;\\r\\n\\r\\n...</td>\n",
              "      <td>Twitter Web App</td>\n",
              "      <td>77</td>\n",
              "      <td>NaN</td>\n",
              "      <td>NaN</td>\n",
              "      <td>NaN</td>\n",
              "      <td>...</td>\n",
              "      <td>5759</td>\n",
              "      <td>2595</td>\n",
              "      <td>2017-08-24 10:20:30</td>\n",
              "      <td>False</td>\n",
              "      <td>https://t.co/ZKrCsINyHT</td>\n",
              "      <td>http://1x-smart.com/1xesports</td>\n",
              "      <td>NaN</td>\n",
              "      <td>https://pbs.twimg.com/profile_banners/90066410...</td>\n",
              "      <td>http://abs.twimg.com/images/themes/theme1/bg.png</td>\n",
              "      <td>http://pbs.twimg.com/profile_images/1351911956...</td>\n",
              "    </tr>\n",
              "  </tbody>\n",
              "</table>\n",
              "<p>20 rows × 90 columns</p>\n",
              "</div>"
            ],
            "text/plain": [
              "                user_id             status_id           created_at  \\\n",
              "0           x2794120980  x1584978238082023424  2022-10-25 18:40:34   \n",
              "1           x2794120980  x1584906333236899841  2022-10-25 13:54:50   \n",
              "2           x2794120980  x1584579213063229440  2022-10-24 16:14:59   \n",
              "3           x2794120980  x1584537158609956864  2022-10-24 13:27:52   \n",
              "4   x703873696113373184  x1584976386070310912  2022-10-25 18:33:12   \n",
              "5           x2340148272  x1584975267075801089  2022-10-25 18:28:45   \n",
              "6   x781083964148768769  x1584970014888599552  2022-10-25 18:07:53   \n",
              "7   x781083964148768769  x1584551552949575680  2022-10-24 14:25:04   \n",
              "8   x781083964148768769  x1584592337233055744  2022-10-24 17:07:08   \n",
              "9             x56177032  x1584968094652723200  2022-10-25 18:00:15   \n",
              "10          x1227015854  x1584960967431036928  2022-10-25 17:31:56   \n",
              "11          x1227015854  x1584892682412883969  2022-10-25 13:00:36   \n",
              "12            x25503818  x1584953711243440128  2022-10-25 17:03:06   \n",
              "13            x25503818  x1584829016611045376  2022-10-25 08:47:36   \n",
              "14           x113029646  x1584951131801006081  2022-10-25 16:52:51   \n",
              "15           x309477766  x1584949570483937281  2022-10-25 16:46:39   \n",
              "16  x900664101986328580  x1584592555815075849  2022-10-24 17:08:00   \n",
              "17  x900664101986328580  x1584568393574719488  2022-10-24 15:31:59   \n",
              "18  x900664101986328580  x1584532709401317376  2022-10-24 13:10:11   \n",
              "19  x900664101986328580  x1584884227816013824  2022-10-25 12:27:00   \n",
              "\n",
              "      screen_name                                               text  \\\n",
              "0     duelissorry  For sale: Last 1 tickets of Dota 2 The Interna...   \n",
              "1     duelissorry  Still have 1 ticket, Buyer wanted a refund. \\r...   \n",
              "2     duelissorry  last 1 finals ticket for 540 sgd each pls dm m...   \n",
              "3     duelissorry  last 2 finals ticket for 580 sgd each pls dm m...   \n",
              "4   DarcyMargallo  Another worlds, another year to clown on Riot ...   \n",
              "5    MalystryxGDS  My journey begins to Singapore for #TI11 !! UK...   \n",
              "6        ggbet_en  He approached AWF at a LAN cafe and asked if h...   \n",
              "7        ggbet_en  Let's take a look at some #TI11 main event sta...   \n",
              "8        ggbet_en  While waiting for #TI11 finals, let's do a lit...   \n",
              "9     jankenqueen  boyfriend just called me to ask \"DID YOU WATCH...   \n",
              "10    Dota2Lounge  This will be the venue for the last 2 days of ...   \n",
              "11    Dota2Lounge  Look at this amazing phoenix set for the colle...   \n",
              "12     syasyapuff  Hi friends! Does anyone know if there has been...   \n",
              "13     syasyapuff  Can’t wait to attend my 3rd @dota2 TI with @se...   \n",
              "14   VipPlaymaker  VIP OPEN WEEKLY QUESTS 1 - 8 BONUS WEEK https:...   \n",
              "15    chenwilliam  For sale: Last 2 tickets of Dota 2 The Interna...   \n",
              "16  1xBet_Esports  Let them FINNISH <U+0001F1EB><U+0001F1EE> #TI1...   \n",
              "17  1xBet_Esports  Only two players are still eligible for a two-...   \n",
              "18  1xBet_Esports  His world tour concert was the reason of such ...   \n",
              "19  1xBet_Esports  Play-off statistics #TI11 <U+0001F4CA>\\r\\n\\r\\n...   \n",
              "\n",
              "                 source  display_text_width reply_to_status_id  \\\n",
              "0       Twitter Web App                 175                NaN   \n",
              "1       Twitter Web App                 145                NaN   \n",
              "2       Twitter Web App                 122                NaN   \n",
              "3       Twitter Web App                 122                NaN   \n",
              "4   Twitter for Android                 191                NaN   \n",
              "5   Twitter for Android                 222                NaN   \n",
              "6       Twitter Web App                 225                NaN   \n",
              "7       Twitter Web App                 122                NaN   \n",
              "8       Twitter Web App                 267                NaN   \n",
              "9       Twitter Web App                 124                NaN   \n",
              "10            TweetDeck                  58                NaN   \n",
              "11            TweetDeck                  82                NaN   \n",
              "12   Twitter for iPhone                  75                NaN   \n",
              "13   Twitter for iPhone                 173                NaN   \n",
              "14      Twitter Web App                 155                NaN   \n",
              "15  Twitter for Android                 175                NaN   \n",
              "16      Twitter Web App                  67                NaN   \n",
              "17      Twitter Web App                 121                NaN   \n",
              "18      Twitter Web App                  78                NaN   \n",
              "19      Twitter Web App                  77                NaN   \n",
              "\n",
              "   reply_to_user_id reply_to_screen_name  ...  statuses_count  \\\n",
              "0               NaN                  NaN  ...           14850   \n",
              "1               NaN                  NaN  ...           14850   \n",
              "2               NaN                  NaN  ...           14850   \n",
              "3               NaN                  NaN  ...           14850   \n",
              "4               NaN                  NaN  ...            4937   \n",
              "5               NaN                  NaN  ...           13477   \n",
              "6               NaN                  NaN  ...            4832   \n",
              "7               NaN                  NaN  ...            4832   \n",
              "8               NaN                  NaN  ...            4832   \n",
              "9               NaN                  NaN  ...           33667   \n",
              "10              NaN                  NaN  ...            7473   \n",
              "11              NaN                  NaN  ...            7473   \n",
              "12              NaN                  NaN  ...           17554   \n",
              "13              NaN                  NaN  ...           17554   \n",
              "14              NaN                  NaN  ...             775   \n",
              "15              NaN                  NaN  ...              58   \n",
              "16              NaN                  NaN  ...            5759   \n",
              "17              NaN                  NaN  ...            5759   \n",
              "18              NaN                  NaN  ...            5759   \n",
              "19              NaN                  NaN  ...            5759   \n",
              "\n",
              "    favourites_count   account_created_at  verified              profile_url  \\\n",
              "0              15523  2014-09-06 15:26:57     False                      NaN   \n",
              "1              15523  2014-09-06 15:26:57     False                      NaN   \n",
              "2              15523  2014-09-06 15:26:57     False                      NaN   \n",
              "3              15523  2014-09-06 15:26:57     False                      NaN   \n",
              "4             109224  2016-02-28 09:25:41     False  https://t.co/fD3IxK2aGH   \n",
              "5              22510  2014-02-12 11:00:06      True  https://t.co/TzXdQFV9JA   \n",
              "6               3376  2016-09-28 10:51:43     False  https://t.co/zOtFnacNXF   \n",
              "7               3376  2016-09-28 10:51:43     False  https://t.co/zOtFnacNXF   \n",
              "8               3376  2016-09-28 10:51:43     False  https://t.co/zOtFnacNXF   \n",
              "9              14162  2009-07-12 20:03:07     False  https://t.co/RWb5RRbsk4   \n",
              "10              2621  2013-02-28 08:07:55     False  https://t.co/QJxZvJ5oEz   \n",
              "11              2621  2013-02-28 08:07:55     False  https://t.co/QJxZvJ5oEz   \n",
              "12              3165  2009-03-20 13:38:54      True  https://t.co/wVEL8DavZO   \n",
              "13              3165  2009-03-20 13:38:54      True  https://t.co/wVEL8DavZO   \n",
              "14                 1  2010-02-10 13:30:34     False  https://t.co/ItqZrQg14h   \n",
              "15               453  2011-06-02 04:42:00     False                      NaN   \n",
              "16              2595  2017-08-24 10:20:30     False  https://t.co/ZKrCsINyHT   \n",
              "17              2595  2017-08-24 10:20:30     False  https://t.co/ZKrCsINyHT   \n",
              "18              2595  2017-08-24 10:20:30     False  https://t.co/ZKrCsINyHT   \n",
              "19              2595  2017-08-24 10:20:30     False  https://t.co/ZKrCsINyHT   \n",
              "\n",
              "                             profile_expanded_url account_lang  \\\n",
              "0                                             NaN          NaN   \n",
              "1                                             NaN          NaN   \n",
              "2                                             NaN          NaN   \n",
              "3                                             NaN          NaN   \n",
              "4   https://myanimelist.net/profile/DarcyMargallo          NaN   \n",
              "5            https://esports.gg/author/malystryx/          NaN   \n",
              "6                                  https://gg.bet          NaN   \n",
              "7                                  https://gg.bet          NaN   \n",
              "8                                  https://gg.bet          NaN   \n",
              "9         https://www.instagram.com/pinknomozart/          NaN   \n",
              "10                         http://dota2lounge.com          NaN   \n",
              "11                         http://dota2lounge.com          NaN   \n",
              "12                    http://twitch.tv/syasyapuff          NaN   \n",
              "13                    http://twitch.tv/syasyapuff          NaN   \n",
              "14                     http://bit.ly/VipPlaymaker          NaN   \n",
              "15                                            NaN          NaN   \n",
              "16                  http://1x-smart.com/1xesports          NaN   \n",
              "17                  http://1x-smart.com/1xesports          NaN   \n",
              "18                  http://1x-smart.com/1xesports          NaN   \n",
              "19                  http://1x-smart.com/1xesports          NaN   \n",
              "\n",
              "                                   profile_banner_url  \\\n",
              "0   https://pbs.twimg.com/profile_banners/27941209...   \n",
              "1   https://pbs.twimg.com/profile_banners/27941209...   \n",
              "2   https://pbs.twimg.com/profile_banners/27941209...   \n",
              "3   https://pbs.twimg.com/profile_banners/27941209...   \n",
              "4   https://pbs.twimg.com/profile_banners/70387369...   \n",
              "5   https://pbs.twimg.com/profile_banners/23401482...   \n",
              "6   https://pbs.twimg.com/profile_banners/78108396...   \n",
              "7   https://pbs.twimg.com/profile_banners/78108396...   \n",
              "8   https://pbs.twimg.com/profile_banners/78108396...   \n",
              "9   https://pbs.twimg.com/profile_banners/56177032...   \n",
              "10  https://pbs.twimg.com/profile_banners/12270158...   \n",
              "11  https://pbs.twimg.com/profile_banners/12270158...   \n",
              "12  https://pbs.twimg.com/profile_banners/25503818...   \n",
              "13  https://pbs.twimg.com/profile_banners/25503818...   \n",
              "14  https://pbs.twimg.com/profile_banners/11302964...   \n",
              "15  https://pbs.twimg.com/profile_banners/30947776...   \n",
              "16  https://pbs.twimg.com/profile_banners/90066410...   \n",
              "17  https://pbs.twimg.com/profile_banners/90066410...   \n",
              "18  https://pbs.twimg.com/profile_banners/90066410...   \n",
              "19  https://pbs.twimg.com/profile_banners/90066410...   \n",
              "\n",
              "                               profile_background_url  \\\n",
              "0    http://abs.twimg.com/images/themes/theme1/bg.png   \n",
              "1    http://abs.twimg.com/images/themes/theme1/bg.png   \n",
              "2    http://abs.twimg.com/images/themes/theme1/bg.png   \n",
              "3    http://abs.twimg.com/images/themes/theme1/bg.png   \n",
              "4    http://abs.twimg.com/images/themes/theme1/bg.png   \n",
              "5    http://abs.twimg.com/images/themes/theme1/bg.png   \n",
              "6                                                 NaN   \n",
              "7                                                 NaN   \n",
              "8                                                 NaN   \n",
              "9    http://abs.twimg.com/images/themes/theme1/bg.png   \n",
              "10   http://abs.twimg.com/images/themes/theme1/bg.png   \n",
              "11   http://abs.twimg.com/images/themes/theme1/bg.png   \n",
              "12   http://abs.twimg.com/images/themes/theme9/bg.gif   \n",
              "13   http://abs.twimg.com/images/themes/theme9/bg.gif   \n",
              "14   http://abs.twimg.com/images/themes/theme1/bg.png   \n",
              "15  http://abs.twimg.com/images/themes/theme13/bg.gif   \n",
              "16   http://abs.twimg.com/images/themes/theme1/bg.png   \n",
              "17   http://abs.twimg.com/images/themes/theme1/bg.png   \n",
              "18   http://abs.twimg.com/images/themes/theme1/bg.png   \n",
              "19   http://abs.twimg.com/images/themes/theme1/bg.png   \n",
              "\n",
              "                                    profile_image_url  \n",
              "0   http://pbs.twimg.com/profile_images/1582398120...  \n",
              "1   http://pbs.twimg.com/profile_images/1582398120...  \n",
              "2   http://pbs.twimg.com/profile_images/1582398120...  \n",
              "3   http://pbs.twimg.com/profile_images/1582398120...  \n",
              "4   http://pbs.twimg.com/profile_images/1286551853...  \n",
              "5   http://pbs.twimg.com/profile_images/1462343780...  \n",
              "6   http://pbs.twimg.com/profile_images/1576706515...  \n",
              "7   http://pbs.twimg.com/profile_images/1576706515...  \n",
              "8   http://pbs.twimg.com/profile_images/1576706515...  \n",
              "9   http://pbs.twimg.com/profile_images/1247092687...  \n",
              "10  http://pbs.twimg.com/profile_images/1457730043...  \n",
              "11  http://pbs.twimg.com/profile_images/1457730043...  \n",
              "12  http://pbs.twimg.com/profile_images/1162614809...  \n",
              "13  http://pbs.twimg.com/profile_images/1162614809...  \n",
              "14  http://pbs.twimg.com/profile_images/1532341571...  \n",
              "15  http://pbs.twimg.com/profile_images/7122113682...  \n",
              "16  http://pbs.twimg.com/profile_images/1351911956...  \n",
              "17  http://pbs.twimg.com/profile_images/1351911956...  \n",
              "18  http://pbs.twimg.com/profile_images/1351911956...  \n",
              "19  http://pbs.twimg.com/profile_images/1351911956...  \n",
              "\n",
              "[20 rows x 90 columns]"
            ]
          },
          "execution_count": 353,
          "metadata": {},
          "output_type": "execute_result"
        }
      ],
      "source": [
        "ti_data.head(20)"
      ]
    }
  ],
  "metadata": {
    "kernelspec": {
      "display_name": "Python 3",
      "language": "python",
      "name": "python3"
    },
    "language_info": {
      "codemirror_mode": {
        "name": "ipython",
        "version": 3
      },
      "file_extension": ".py",
      "mimetype": "text/x-python",
      "name": "python",
      "nbconvert_exporter": "python",
      "pygments_lexer": "ipython3",
      "version": "3.8.5"
    },
    "colab": {
      "provenance": []
    }
  },
  "nbformat": 4,
  "nbformat_minor": 0
}
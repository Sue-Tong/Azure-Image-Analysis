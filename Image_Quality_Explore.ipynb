{
  "cells": [
    {
      "cell_type": "markdown",
      "metadata": {
        "id": "mN7y8MMLS98Y"
      },
      "source": [
        "## Image Quality using OpenCV"
      ]
    },
    {
      "cell_type": "markdown",
      "metadata": {
        "id": "1B5uTbMzS98a"
      },
      "source": [
        "#### Reference for image quality definition\n",
        "\n",
        "**Image quality was measured based on the followinig question: \"How is the image quality/resolution?\". The responses were recoded as \"High\" (1), \"Medium\" (2), \"Low\" (3), \"Poor\" (4). Image quality has been considered a useful measure of overall engagement in terms of number of comments and likes [4]. By following recent studies, we treated image quality as a discrete variable.**"
      ]
    },
    {
      "cell_type": "markdown",
      "metadata": {
        "id": "UggeZKEUS98a"
      },
      "source": [
        "There are two types of image quality:\n",
        "\n",
        "### **1. Reference based image quality**\n",
        "\n",
        "Avaliable metrics: Mean squared error (MSE), Root mean squared error (RMSE), Peak signal to noise ratio (PSNR), Structural similarity index (SSI)"
      ]
    },
    {
      "cell_type": "markdown",
      "metadata": {
        "id": "7wdwSgpES98b"
      },
      "source": [
        "### **2. Non reference based image quality** (Focus of this script)\n",
        "\n",
        "Avaliable metrics:\n",
        "\n",
        "#### (1) Sharpness\n",
        "\n",
        "Uses difference of differences in grayscale values of a median-filtered image (${\\triangle}$DoM) as an indicator of edge sharpness\n",
        "\n",
        "Reference: \n",
        "\n",
        "Kumar, J., Chen, F., & Doermann, D. (2012, November). Sharpness estimation for document and scene images. In Proceedings of the 21st International Conference on Pattern Recognition (ICPR2012) (pp. 3292-3295). IEEE.\n",
        "\n",
        "Used library GitHub Page: https://github.com/umang-singhal/pydom\n",
        "\n",
        "**Note: 0 <= Sharpness Score <= sqrt(2) (~1.414)** The higher the sharpness score, the better the image quality\n",
        "\n",
        "#### (2)  Blind/referenceless image spatial quality evaluator (BRISQUE)\n",
        "\n",
        "BRISQUE score is computed using a support vector regression (SVR) model trained on an image database with corresponding differential mean opinion score (DMOS) values\n",
        "\n",
        "Reference:\n",
        "\n",
        "Mittal, A., Moorthy, A. K., & Bovik, A. C. (2012). No-reference image quality assessment in the spatial domain. IEEE Transactions on image processing, 21(12), 4695-4708.\n",
        "\n",
        "Used library GitHub Page: https://github.com/ocampor/image-quality\n",
        "\n",
        "Alternative library GitHub Page: https://github.com/rehanguha/brisque\n",
        "\n",
        "**Note:** The higher the BRISQUE score, the WORSE the image quality"
      ]
    },
    {
      "cell_type": "markdown",
      "metadata": {
        "id": "vs4PXKPoS98b"
      },
      "source": [
        "### Setup"
      ]
    },
    {
      "cell_type": "code",
      "execution_count": 1,
      "metadata": {
        "colab": {
          "base_uri": "https://localhost:8080/"
        },
        "id": "NUN4zZnNS98b",
        "outputId": "02f72de9-c9b9-4352-cbc0-a91ec5eb196b"
      },
      "outputs": [
        {
          "output_type": "stream",
          "name": "stdout",
          "text": [
            "Looking in indexes: https://pypi.org/simple, https://us-python.pkg.dev/colab-wheels/public/simple/\n",
            "Requirement already satisfied: opencv-contrib-python in /usr/local/lib/python3.9/dist-packages (4.6.0.66)\n",
            "Requirement already satisfied: numpy>=1.17.3 in /usr/local/lib/python3.9/dist-packages (from opencv-contrib-python) (1.22.4)\n"
          ]
        }
      ],
      "source": [
        "# OpenCV library\n",
        "!pip install opencv-contrib-python"
      ]
    },
    {
      "cell_type": "code",
      "execution_count": 2,
      "metadata": {
        "colab": {
          "base_uri": "https://localhost:8080/"
        },
        "id": "bs_zOkmrS98c",
        "outputId": "a5c70979-4a41-4e17-e4aa-58b15147c578"
      },
      "outputs": [
        {
          "output_type": "stream",
          "name": "stdout",
          "text": [
            "Looking in indexes: https://pypi.org/simple, https://us-python.pkg.dev/colab-wheels/public/simple/\n",
            "Collecting git+https://github.com/umang-singhal/pydom.git\n",
            "  Cloning https://github.com/umang-singhal/pydom.git to /tmp/pip-req-build-tl57pwre\n",
            "  Running command git clone --filter=blob:none --quiet https://github.com/umang-singhal/pydom.git /tmp/pip-req-build-tl57pwre\n",
            "  Resolved https://github.com/umang-singhal/pydom.git to commit 2554af8d08a80658539f002eae58ece89cbcc6d4\n",
            "  Preparing metadata (setup.py) ... \u001b[?25l\u001b[?25hdone\n",
            "Requirement already satisfied: numpy in /usr/local/lib/python3.9/dist-packages (from pydom==0.1) (1.22.4)\n",
            "Requirement already satisfied: opencv-python in /usr/local/lib/python3.9/dist-packages (from pydom==0.1) (4.6.0.66)\n",
            "Building wheels for collected packages: pydom\n",
            "  Building wheel for pydom (setup.py) ... \u001b[?25l\u001b[?25hdone\n",
            "  Created wheel for pydom: filename=pydom-0.1-py3-none-any.whl size=18001 sha256=fc1512e414cd71c79c20686663ed0bd276e2272116100e4aaebaa36f9bd41774\n",
            "  Stored in directory: /tmp/pip-ephem-wheel-cache-hkhz_7fl/wheels/6f/9c/11/81bbf3cf51629251092cf22fbd204299795c73b2c15b9b6d25\n",
            "Successfully built pydom\n",
            "Installing collected packages: pydom\n",
            "Successfully installed pydom-0.1\n"
          ]
        }
      ],
      "source": [
        "# For calculating sharpness\n",
        "!pip install git+https://github.com/umang-singhal/pydom.git"
      ]
    },
    {
      "cell_type": "code",
      "execution_count": 3,
      "metadata": {
        "colab": {
          "base_uri": "https://localhost:8080/"
        },
        "id": "8SQELAGyS98c",
        "outputId": "34d98219-d387-4e2f-e457-cfe5fa16ccfa"
      },
      "outputs": [
        {
          "output_type": "stream",
          "name": "stdout",
          "text": [
            "Looking in indexes: https://pypi.org/simple, https://us-python.pkg.dev/colab-wheels/public/simple/\n",
            "Collecting image-quality\n",
            "  Downloading image_quality-1.2.7-py3-none-any.whl (146 kB)\n",
            "\u001b[2K     \u001b[90m━━━━━━━━━━━━━━━━━━━━━━━━━━━━━━━━━━━━━━━\u001b[0m \u001b[32m146.6/146.6 KB\u001b[0m \u001b[31m4.7 MB/s\u001b[0m eta \u001b[36m0:00:00\u001b[0m\n",
            "\u001b[?25hRequirement already satisfied: scikit-image>=0.15.0 in /usr/local/lib/python3.9/dist-packages (from image-quality) (0.19.3)\n",
            "Requirement already satisfied: scipy>=1.3.0 in /usr/local/lib/python3.9/dist-packages (from image-quality) (1.10.1)\n",
            "Collecting libsvm>=3.23.0\n",
            "  Downloading libsvm-3.23.0.4.tar.gz (170 kB)\n",
            "\u001b[2K     \u001b[90m━━━━━━━━━━━━━━━━━━━━━━━━━━━━━━━━━━━━━━\u001b[0m \u001b[32m170.6/170.6 KB\u001b[0m \u001b[31m16.5 MB/s\u001b[0m eta \u001b[36m0:00:00\u001b[0m\n",
            "\u001b[?25h  Preparing metadata (setup.py) ... \u001b[?25l\u001b[?25hdone\n",
            "Requirement already satisfied: Pillow>=5.2.0 in /usr/local/lib/python3.9/dist-packages (from image-quality) (8.4.0)\n",
            "Requirement already satisfied: numpy>=1.16.4 in /usr/local/lib/python3.9/dist-packages (from image-quality) (1.22.4)\n",
            "Requirement already satisfied: networkx>=2.2 in /usr/local/lib/python3.9/dist-packages (from scikit-image>=0.15.0->image-quality) (3.0)\n",
            "Requirement already satisfied: packaging>=20.0 in /usr/local/lib/python3.9/dist-packages (from scikit-image>=0.15.0->image-quality) (23.0)\n",
            "Requirement already satisfied: tifffile>=2019.7.26 in /usr/local/lib/python3.9/dist-packages (from scikit-image>=0.15.0->image-quality) (2023.3.15)\n",
            "Requirement already satisfied: PyWavelets>=1.1.1 in /usr/local/lib/python3.9/dist-packages (from scikit-image>=0.15.0->image-quality) (1.4.1)\n",
            "Requirement already satisfied: imageio>=2.4.1 in /usr/local/lib/python3.9/dist-packages (from scikit-image>=0.15.0->image-quality) (2.9.0)\n",
            "Building wheels for collected packages: libsvm\n",
            "  Building wheel for libsvm (setup.py) ... \u001b[?25l\u001b[?25hdone\n",
            "  Created wheel for libsvm: filename=libsvm-3.23.0.4-cp39-cp39-linux_x86_64.whl size=253862 sha256=66307854b46a1cfe195b4c27e5b08f4c60205c96d89dcf7dd5638ade20b654aa\n",
            "  Stored in directory: /root/.cache/pip/wheels/c1/ce/25/0d50035499973fcbcc407fcb897d53e47b6eb4601308789aa6\n",
            "Successfully built libsvm\n",
            "Installing collected packages: libsvm, image-quality\n",
            "Successfully installed image-quality-1.2.7 libsvm-3.23.0.4\n",
            "Looking in indexes: https://pypi.org/simple, https://us-python.pkg.dev/colab-wheels/public/simple/\n",
            "Collecting brisque\n",
            "  Downloading brisque-0.0.15-py3-none-any.whl (135 kB)\n",
            "\u001b[2K     \u001b[90m━━━━━━━━━━━━━━━━━━━━━━━━━━━━━━━━━━━━━━━\u001b[0m \u001b[32m135.6/135.6 KB\u001b[0m \u001b[31m5.8 MB/s\u001b[0m eta \u001b[36m0:00:00\u001b[0m\n",
            "\u001b[?25hRequirement already satisfied: scipy in /usr/local/lib/python3.9/dist-packages (from brisque) (1.10.1)\n",
            "Requirement already satisfied: numpy in /usr/local/lib/python3.9/dist-packages (from brisque) (1.22.4)\n",
            "Requirement already satisfied: scikit-image in /usr/local/lib/python3.9/dist-packages (from brisque) (0.19.3)\n",
            "Requirement already satisfied: opencv-python in /usr/local/lib/python3.9/dist-packages (from brisque) (4.6.0.66)\n",
            "Requirement already satisfied: libsvm in /usr/local/lib/python3.9/dist-packages (from brisque) (3.23.0.4)\n",
            "Requirement already satisfied: pillow!=7.1.0,!=7.1.1,!=8.3.0,>=6.1.0 in /usr/local/lib/python3.9/dist-packages (from scikit-image->brisque) (8.4.0)\n",
            "Requirement already satisfied: imageio>=2.4.1 in /usr/local/lib/python3.9/dist-packages (from scikit-image->brisque) (2.9.0)\n",
            "Requirement already satisfied: PyWavelets>=1.1.1 in /usr/local/lib/python3.9/dist-packages (from scikit-image->brisque) (1.4.1)\n",
            "Requirement already satisfied: networkx>=2.2 in /usr/local/lib/python3.9/dist-packages (from scikit-image->brisque) (3.0)\n",
            "Requirement already satisfied: packaging>=20.0 in /usr/local/lib/python3.9/dist-packages (from scikit-image->brisque) (23.0)\n",
            "Requirement already satisfied: tifffile>=2019.7.26 in /usr/local/lib/python3.9/dist-packages (from scikit-image->brisque) (2023.3.15)\n",
            "Installing collected packages: brisque\n",
            "Successfully installed brisque-0.0.15\n"
          ]
        }
      ],
      "source": [
        "# For calculating BRISQUE score\n",
        "!pip install image-quality\n",
        "!pip install brisque"
      ]
    },
    {
      "cell_type": "code",
      "source": [
        "!pip install parmap"
      ],
      "metadata": {
        "colab": {
          "base_uri": "https://localhost:8080/"
        },
        "id": "TmvFlLUmW0Mf",
        "outputId": "753af5e9-630e-4cf4-8068-8a4209aa0aa0"
      },
      "execution_count": 4,
      "outputs": [
        {
          "output_type": "stream",
          "name": "stdout",
          "text": [
            "Looking in indexes: https://pypi.org/simple, https://us-python.pkg.dev/colab-wheels/public/simple/\n",
            "Collecting parmap\n",
            "  Downloading parmap-1.6.0-py2.py3-none-any.whl (12 kB)\n",
            "Installing collected packages: parmap\n",
            "Successfully installed parmap-1.6.0\n"
          ]
        }
      ]
    },
    {
      "cell_type": "code",
      "execution_count": 5,
      "metadata": {
        "id": "w9kJZtkZS98c"
      },
      "outputs": [],
      "source": [
        "from brisque import BRISQUE\n",
        "import numpy as np\n",
        "import pandas as pd\n",
        "import cv2\n",
        "import matplotlib.pyplot as plt\n",
        "%matplotlib inline  \n",
        "# if you are running this code in Jupyter notebook\n",
        "import os\n",
        "import glob\n",
        "import math\n",
        "from collections import Counter\n",
        "from multiprocessing import Process\n",
        "from time import sleep\n",
        "from random import random\n",
        "import random\n",
        "import warnings\n",
        "from dom import DOM\n",
        "import imquality.brisque as brisque\n",
        "import PIL.Image\n",
        "#from brisque import BRISQUE\n",
        "import parmap\n",
        "import multiprocessing\n",
        "warnings.filterwarnings('ignore')"
      ]
    },
    {
      "cell_type": "code",
      "execution_count": 6,
      "metadata": {
        "id": "Pd0g6kmBS98c"
      },
      "outputs": [],
      "source": [
        "from joblib import Parallel, delayed\n",
        "from os import listdir\n",
        "from os.path import isfile, join\n",
        "import shutil\n",
        "#onlyfiles = [f for f in listdir(mypath) if isfile(join(mypath, f))]"
      ]
    },
    {
      "cell_type": "code",
      "execution_count": 7,
      "metadata": {
        "id": "Dkh5MFR_S98c"
      },
      "outputs": [],
      "source": [
        "# For parallel purpose\n",
        "cpu_count = multiprocessing.cpu_count()"
      ]
    },
    {
      "cell_type": "code",
      "execution_count": 12,
      "metadata": {
        "id": "yBdmQKx1S98d"
      },
      "outputs": [],
      "source": [
        "# Read in csv that have all post metadata\n",
        "ins_profile_data = pd.read_csv(f'/content/new.csv')"
      ]
    },
    {
      "cell_type": "code",
      "execution_count": 14,
      "metadata": {
        "id": "IpudMz3mS98d",
        "outputId": "4d46c12c-85c3-4dfc-87ea-103eaedd3524",
        "colab": {
          "base_uri": "https://localhost:8080/"
        }
      },
      "outputs": [
        {
          "output_type": "execute_result",
          "data": {
            "text/plain": [
              "53013"
            ]
          },
          "metadata": {},
          "execution_count": 14
        }
      ],
      "source": [
        "len(ins_profile_data)"
      ]
    },
    {
      "cell_type": "code",
      "execution_count": null,
      "metadata": {
        "id": "tmWXHGfmS98d"
      },
      "outputs": [],
      "source": [
        "# Read in posts that were not scraped (possibly due to deleted post, post not available anymore, etc)\n",
        "final_not_scraped_post = pd.read_csv(f'../../SA_Instagram/phantom_collection/not_scraped_URL_6th.csv')"
      ]
    },
    {
      "cell_type": "code",
      "execution_count": null,
      "metadata": {
        "id": "zbYTOe4bS98d",
        "outputId": "5ae85085-4996-4f7f-e057-6c380ee7f1b5"
      },
      "outputs": [
        {
          "data": {
            "text/html": [
              "<div>\n",
              "<style scoped>\n",
              "    .dataframe tbody tr th:only-of-type {\n",
              "        vertical-align: middle;\n",
              "    }\n",
              "\n",
              "    .dataframe tbody tr th {\n",
              "        vertical-align: top;\n",
              "    }\n",
              "\n",
              "    .dataframe thead th {\n",
              "        text-align: right;\n",
              "    }\n",
              "</style>\n",
              "<table border=\"1\" class=\"dataframe\">\n",
              "  <thead>\n",
              "    <tr style=\"text-align: right;\">\n",
              "      <th></th>\n",
              "      <th>postUrl</th>\n",
              "    </tr>\n",
              "  </thead>\n",
              "  <tbody>\n",
              "    <tr>\n",
              "      <th>0</th>\n",
              "      <td>https://www.instagram.com/p/CX1pDFMvcTu/</td>\n",
              "    </tr>\n",
              "    <tr>\n",
              "      <th>1</th>\n",
              "      <td>https://www.instagram.com/p/CXedQjPFwBm/</td>\n",
              "    </tr>\n",
              "    <tr>\n",
              "      <th>2</th>\n",
              "      <td>https://www.instagram.com/p/Ce7P3VBIhKu/</td>\n",
              "    </tr>\n",
              "    <tr>\n",
              "      <th>3</th>\n",
              "      <td>https://www.instagram.com/p/CeXThkZIh2d/</td>\n",
              "    </tr>\n",
              "    <tr>\n",
              "      <th>4</th>\n",
              "      <td>https://www.instagram.com/p/ClRRu8Qt09u/</td>\n",
              "    </tr>\n",
              "    <tr>\n",
              "      <th>5</th>\n",
              "      <td>https://www.instagram.com/p/Cj5jUaVLYXF/</td>\n",
              "    </tr>\n",
              "    <tr>\n",
              "      <th>6</th>\n",
              "      <td>https://www.instagram.com/p/CjnmjugL5yn/</td>\n",
              "    </tr>\n",
              "    <tr>\n",
              "      <th>7</th>\n",
              "      <td>https://www.instagram.com/p/CiSnA7IBmpS/</td>\n",
              "    </tr>\n",
              "    <tr>\n",
              "      <th>8</th>\n",
              "      <td>https://www.instagram.com/p/CiBAKUGhvT8/</td>\n",
              "    </tr>\n",
              "    <tr>\n",
              "      <th>9</th>\n",
              "      <td>https://www.instagram.com/p/ChpbUmtBGoB/</td>\n",
              "    </tr>\n",
              "    <tr>\n",
              "      <th>10</th>\n",
              "      <td>https://www.instagram.com/p/ChDLbNhhaBG/</td>\n",
              "    </tr>\n",
              "    <tr>\n",
              "      <th>11</th>\n",
              "      <td>https://www.instagram.com/p/CguOEqQhjVj/</td>\n",
              "    </tr>\n",
              "    <tr>\n",
              "      <th>12</th>\n",
              "      <td>https://www.instagram.com/p/CghURt-hJ0C/</td>\n",
              "    </tr>\n",
              "    <tr>\n",
              "      <th>13</th>\n",
              "      <td>https://www.instagram.com/p/Cf_-V8igAig/</td>\n",
              "    </tr>\n",
              "    <tr>\n",
              "      <th>14</th>\n",
              "      <td>https://www.instagram.com/p/Cf9QQFCLscK/</td>\n",
              "    </tr>\n",
              "    <tr>\n",
              "      <th>15</th>\n",
              "      <td>https://www.instagram.com/p/Cf6zfV8L0bU/</td>\n",
              "    </tr>\n",
              "    <tr>\n",
              "      <th>16</th>\n",
              "      <td>https://www.instagram.com/p/CfriUpZhzPQ/</td>\n",
              "    </tr>\n",
              "    <tr>\n",
              "      <th>17</th>\n",
              "      <td>https://www.instagram.com/p/CfHMj3ehM5Z/</td>\n",
              "    </tr>\n",
              "    <tr>\n",
              "      <th>18</th>\n",
              "      <td>https://www.instagram.com/p/Ce1KX5prMLJ/</td>\n",
              "    </tr>\n",
              "    <tr>\n",
              "      <th>19</th>\n",
              "      <td>https://www.instagram.com/p/CeTtk5phvU_/</td>\n",
              "    </tr>\n",
              "    <tr>\n",
              "      <th>20</th>\n",
              "      <td>https://www.instagram.com/p/CeMYqGeh3Wq/</td>\n",
              "    </tr>\n",
              "    <tr>\n",
              "      <th>21</th>\n",
              "      <td>https://www.instagram.com/p/Cddm0xtrKuh/</td>\n",
              "    </tr>\n",
              "    <tr>\n",
              "      <th>22</th>\n",
              "      <td>https://www.instagram.com/p/Cc3Ul11BXnK/</td>\n",
              "    </tr>\n",
              "    <tr>\n",
              "      <th>23</th>\n",
              "      <td>https://www.instagram.com/p/CclHqr0J3X6/</td>\n",
              "    </tr>\n",
              "    <tr>\n",
              "      <th>24</th>\n",
              "      <td>https://www.instagram.com/p/Ccifskmj9hA/</td>\n",
              "    </tr>\n",
              "    <tr>\n",
              "      <th>25</th>\n",
              "      <td>https://www.instagram.com/p/CcVhlt-Boob/</td>\n",
              "    </tr>\n",
              "    <tr>\n",
              "      <th>26</th>\n",
              "      <td>https://www.instagram.com/p/Cbu5WtbpPkl/</td>\n",
              "    </tr>\n",
              "    <tr>\n",
              "      <th>27</th>\n",
              "      <td>https://www.instagram.com/p/CbsVjmeh_Sy/</td>\n",
              "    </tr>\n",
              "    <tr>\n",
              "      <th>28</th>\n",
              "      <td>https://www.instagram.com/p/CaXesXhhZzs/</td>\n",
              "    </tr>\n",
              "    <tr>\n",
              "      <th>29</th>\n",
              "      <td>https://www.instagram.com/p/CY6yZMNlMCR/</td>\n",
              "    </tr>\n",
              "    <tr>\n",
              "      <th>30</th>\n",
              "      <td>https://www.instagram.com/p/CYuNz6OhYSe/</td>\n",
              "    </tr>\n",
              "    <tr>\n",
              "      <th>31</th>\n",
              "      <td>https://www.instagram.com/p/CYUqXA6IBUY/</td>\n",
              "    </tr>\n",
              "    <tr>\n",
              "      <th>32</th>\n",
              "      <td>https://www.instagram.com/p/CYHq_19hvDy/</td>\n",
              "    </tr>\n",
              "    <tr>\n",
              "      <th>33</th>\n",
              "      <td>https://www.instagram.com/p/CXg2OwnhUKg/</td>\n",
              "    </tr>\n",
              "    <tr>\n",
              "      <th>34</th>\n",
              "      <td>https://www.instagram.com/p/CXMNJwMBrdt/</td>\n",
              "    </tr>\n",
              "    <tr>\n",
              "      <th>35</th>\n",
              "      <td>https://www.instagram.com/p/CW3kJaGBWpZ/</td>\n",
              "    </tr>\n",
              "    <tr>\n",
              "      <th>36</th>\n",
              "      <td>https://www.instagram.com/p/CWtVNRShF4r/</td>\n",
              "    </tr>\n",
              "    <tr>\n",
              "      <th>37</th>\n",
              "      <td>https://www.instagram.com/p/CUIXRR2AkmE/</td>\n",
              "    </tr>\n",
              "    <tr>\n",
              "      <th>38</th>\n",
              "      <td>https://www.instagram.com/p/CUF8eEcjC64/</td>\n",
              "    </tr>\n",
              "    <tr>\n",
              "      <th>39</th>\n",
              "      <td>https://www.instagram.com/p/CT7pUJ0jP7v/</td>\n",
              "    </tr>\n",
              "    <tr>\n",
              "      <th>40</th>\n",
              "      <td>https://www.instagram.com/p/CTS0MOpBPn9/</td>\n",
              "    </tr>\n",
              "    <tr>\n",
              "      <th>41</th>\n",
              "      <td>https://www.instagram.com/p/CTFdvo8Acsu/</td>\n",
              "    </tr>\n",
              "    <tr>\n",
              "      <th>42</th>\n",
              "      <td>https://www.instagram.com/p/CS9sCrLgwL_/</td>\n",
              "    </tr>\n",
              "    <tr>\n",
              "      <th>43</th>\n",
              "      <td>https://www.instagram.com/p/CRy_L1vgg6a/</td>\n",
              "    </tr>\n",
              "    <tr>\n",
              "      <th>44</th>\n",
              "      <td>https://www.instagram.com/p/CRUBp9ZsQiz/</td>\n",
              "    </tr>\n",
              "    <tr>\n",
              "      <th>45</th>\n",
              "      <td>https://www.instagram.com/p/CQwKRbTneEC/</td>\n",
              "    </tr>\n",
              "    <tr>\n",
              "      <th>46</th>\n",
              "      <td>https://www.instagram.com/p/CQeX6s8gbiH/</td>\n",
              "    </tr>\n",
              "    <tr>\n",
              "      <th>47</th>\n",
              "      <td>https://www.instagram.com/p/CP55S7xlReJ/</td>\n",
              "    </tr>\n",
              "    <tr>\n",
              "      <th>48</th>\n",
              "      <td>https://www.instagram.com/p/CPtGRaWN8fS/</td>\n",
              "    </tr>\n",
              "    <tr>\n",
              "      <th>49</th>\n",
              "      <td>https://www.instagram.com/p/CPJE5LgFUHr/</td>\n",
              "    </tr>\n",
              "    <tr>\n",
              "      <th>50</th>\n",
              "      <td>https://www.instagram.com/p/COvUWn4HHSv/</td>\n",
              "    </tr>\n",
              "    <tr>\n",
              "      <th>51</th>\n",
              "      <td>https://www.instagram.com/p/COS3HtINpvW/</td>\n",
              "    </tr>\n",
              "    <tr>\n",
              "      <th>52</th>\n",
              "      <td>https://www.instagram.com/p/CNu11paBexf/</td>\n",
              "    </tr>\n",
              "    <tr>\n",
              "      <th>53</th>\n",
              "      <td>https://www.instagram.com/p/CNsTweADYjm/</td>\n",
              "    </tr>\n",
              "    <tr>\n",
              "      <th>54</th>\n",
              "      <td>https://www.instagram.com/p/Bf8kL1Rhvqe/</td>\n",
              "    </tr>\n",
              "    <tr>\n",
              "      <th>55</th>\n",
              "      <td>https://www.instagram.com/p/Bf8kL1Rhvqe/</td>\n",
              "    </tr>\n",
              "    <tr>\n",
              "      <th>56</th>\n",
              "      <td>https://www.instagram.com/p/Bf8kL1Rhvqe/</td>\n",
              "    </tr>\n",
              "  </tbody>\n",
              "</table>\n",
              "</div>"
            ],
            "text/plain": [
              "                                     postUrl\n",
              "0   https://www.instagram.com/p/CX1pDFMvcTu/\n",
              "1   https://www.instagram.com/p/CXedQjPFwBm/\n",
              "2   https://www.instagram.com/p/Ce7P3VBIhKu/\n",
              "3   https://www.instagram.com/p/CeXThkZIh2d/\n",
              "4   https://www.instagram.com/p/ClRRu8Qt09u/\n",
              "5   https://www.instagram.com/p/Cj5jUaVLYXF/\n",
              "6   https://www.instagram.com/p/CjnmjugL5yn/\n",
              "7   https://www.instagram.com/p/CiSnA7IBmpS/\n",
              "8   https://www.instagram.com/p/CiBAKUGhvT8/\n",
              "9   https://www.instagram.com/p/ChpbUmtBGoB/\n",
              "10  https://www.instagram.com/p/ChDLbNhhaBG/\n",
              "11  https://www.instagram.com/p/CguOEqQhjVj/\n",
              "12  https://www.instagram.com/p/CghURt-hJ0C/\n",
              "13  https://www.instagram.com/p/Cf_-V8igAig/\n",
              "14  https://www.instagram.com/p/Cf9QQFCLscK/\n",
              "15  https://www.instagram.com/p/Cf6zfV8L0bU/\n",
              "16  https://www.instagram.com/p/CfriUpZhzPQ/\n",
              "17  https://www.instagram.com/p/CfHMj3ehM5Z/\n",
              "18  https://www.instagram.com/p/Ce1KX5prMLJ/\n",
              "19  https://www.instagram.com/p/CeTtk5phvU_/\n",
              "20  https://www.instagram.com/p/CeMYqGeh3Wq/\n",
              "21  https://www.instagram.com/p/Cddm0xtrKuh/\n",
              "22  https://www.instagram.com/p/Cc3Ul11BXnK/\n",
              "23  https://www.instagram.com/p/CclHqr0J3X6/\n",
              "24  https://www.instagram.com/p/Ccifskmj9hA/\n",
              "25  https://www.instagram.com/p/CcVhlt-Boob/\n",
              "26  https://www.instagram.com/p/Cbu5WtbpPkl/\n",
              "27  https://www.instagram.com/p/CbsVjmeh_Sy/\n",
              "28  https://www.instagram.com/p/CaXesXhhZzs/\n",
              "29  https://www.instagram.com/p/CY6yZMNlMCR/\n",
              "30  https://www.instagram.com/p/CYuNz6OhYSe/\n",
              "31  https://www.instagram.com/p/CYUqXA6IBUY/\n",
              "32  https://www.instagram.com/p/CYHq_19hvDy/\n",
              "33  https://www.instagram.com/p/CXg2OwnhUKg/\n",
              "34  https://www.instagram.com/p/CXMNJwMBrdt/\n",
              "35  https://www.instagram.com/p/CW3kJaGBWpZ/\n",
              "36  https://www.instagram.com/p/CWtVNRShF4r/\n",
              "37  https://www.instagram.com/p/CUIXRR2AkmE/\n",
              "38  https://www.instagram.com/p/CUF8eEcjC64/\n",
              "39  https://www.instagram.com/p/CT7pUJ0jP7v/\n",
              "40  https://www.instagram.com/p/CTS0MOpBPn9/\n",
              "41  https://www.instagram.com/p/CTFdvo8Acsu/\n",
              "42  https://www.instagram.com/p/CS9sCrLgwL_/\n",
              "43  https://www.instagram.com/p/CRy_L1vgg6a/\n",
              "44  https://www.instagram.com/p/CRUBp9ZsQiz/\n",
              "45  https://www.instagram.com/p/CQwKRbTneEC/\n",
              "46  https://www.instagram.com/p/CQeX6s8gbiH/\n",
              "47  https://www.instagram.com/p/CP55S7xlReJ/\n",
              "48  https://www.instagram.com/p/CPtGRaWN8fS/\n",
              "49  https://www.instagram.com/p/CPJE5LgFUHr/\n",
              "50  https://www.instagram.com/p/COvUWn4HHSv/\n",
              "51  https://www.instagram.com/p/COS3HtINpvW/\n",
              "52  https://www.instagram.com/p/CNu11paBexf/\n",
              "53  https://www.instagram.com/p/CNsTweADYjm/\n",
              "54  https://www.instagram.com/p/Bf8kL1Rhvqe/\n",
              "55  https://www.instagram.com/p/Bf8kL1Rhvqe/\n",
              "56  https://www.instagram.com/p/Bf8kL1Rhvqe/"
            ]
          },
          "execution_count": 7,
          "metadata": {},
          "output_type": "execute_result"
        }
      ],
      "source": [
        "final_not_scraped_post"
      ]
    },
    {
      "cell_type": "code",
      "execution_count": null,
      "metadata": {
        "id": "vmGsy7CVS98d"
      },
      "outputs": [],
      "source": [
        "def get_image_name(imgUrl):\n",
        "    '''Get the image name of the post based on imgUrl'''\n",
        "    image_name = imgUrl.split('/')[-1].split('?')[0]\n",
        "    return image_name"
      ]
    },
    {
      "cell_type": "code",
      "execution_count": 15,
      "metadata": {
        "id": "3aodKm3bS98d",
        "colab": {
          "base_uri": "https://localhost:8080/"
        },
        "outputId": "5c86f42c-a16e-4fee-afd5-79f5cca55e6c"
      },
      "outputs": [
        {
          "output_type": "execute_result",
          "data": {
            "text/plain": [
              "0        100947353_709902596450712_6272631665784288093_...\n",
              "1        101005572_246374363479652_2970192058962596638_...\n",
              "2        101434842_2669739969937705_4387298007395419894...\n",
              "3        102552647_112678700284390_2273291108529974386_...\n",
              "4        103091894_620685288805037_5175208616444185610_...\n",
              "                               ...                        \n",
              "53008    95982167_136347404659412_2947517883731741745_n...\n",
              "53009    96512853_155809976000943_8076515679898206064_n...\n",
              "53010    96535561_239436547291755_7611420616627866921_n...\n",
              "53011    96574629_282240836242812_5998586339255429370_n...\n",
              "53012    70057059_2197125367065655_6964911436064038025_...\n",
              "Name: image_name, Length: 53013, dtype: object"
            ]
          },
          "metadata": {},
          "execution_count": 15
        }
      ],
      "source": [
        "ins_profile_data['image_name']"
      ]
    },
    {
      "cell_type": "code",
      "execution_count": 19,
      "metadata": {
        "id": "nb9eQXeWS98d",
        "outputId": "fd7a3bf3-1911-4ab4-9072-9c8ffe0a418c",
        "colab": {
          "base_uri": "https://localhost:8080/",
          "height": 35
        }
      },
      "outputs": [
        {
          "output_type": "execute_result",
          "data": {
            "text/plain": [
              "'100947353_709902596450712_6272631665784288093_n.jpg'"
            ],
            "application/vnd.google.colaboratory.intrinsic+json": {
              "type": "string"
            }
          },
          "metadata": {},
          "execution_count": 19
        }
      ],
      "source": [
        "ins_profile_data['image_name'][0]"
      ]
    },
    {
      "cell_type": "code",
      "execution_count": null,
      "metadata": {
        "id": "51--NEuCS98d"
      },
      "outputs": [],
      "source": [
        "# Remove posts that were not scraped\n",
        "ins_profile_data = ins_profile_data[~ins_profile_data['postUrl'].isin(list(final_not_scraped_post.postUrl.unique()))]"
      ]
    },
    {
      "cell_type": "code",
      "execution_count": null,
      "metadata": {
        "id": "O1w4NL02S98e",
        "outputId": "ab1cb26c-dbc2-460c-f5e0-c30c9f76d35b"
      },
      "outputs": [
        {
          "data": {
            "text/plain": [
              "53005"
            ]
          },
          "execution_count": 12,
          "metadata": {},
          "output_type": "execute_result"
        }
      ],
      "source": [
        "len(ins_profile_data)"
      ]
    },
    {
      "cell_type": "code",
      "execution_count": 16,
      "metadata": {
        "id": "qlWjIXKCS98e",
        "outputId": "83af68ab-6d1e-41b9-94cf-683da67e7af1",
        "colab": {
          "base_uri": "https://localhost:8080/"
        }
      },
      "outputs": [
        {
          "output_type": "execute_result",
          "data": {
            "text/plain": [
              "Index(['index', 'image_name', 'image_storage_URL', 'ocr_text',\n",
              "       'ocr_text_bounding_box', 'has_text_ocr', 'image_tags', 'has_text_tag',\n",
              "       'unique_tags', 'description_text', 'description_confidence',\n",
              "       'category_name', 'category_score0'],\n",
              "      dtype='object')"
            ]
          },
          "metadata": {},
          "execution_count": 16
        }
      ],
      "source": [
        "ins_profile_data.columns"
      ]
    },
    {
      "cell_type": "markdown",
      "metadata": {
        "id": "LA6f2EI6S98e"
      },
      "source": [
        "### Create a dataframe that list all images and their associated accounts"
      ]
    },
    {
      "cell_type": "code",
      "execution_count": null,
      "metadata": {
        "id": "14hwyDmMS98e",
        "outputId": "e3316d53-46ab-4463-dc03-0d53f0805c13"
      },
      "outputs": [
        {
          "data": {
            "text/html": [
              "<div>\n",
              "<style scoped>\n",
              "    .dataframe tbody tr th:only-of-type {\n",
              "        vertical-align: middle;\n",
              "    }\n",
              "\n",
              "    .dataframe tbody tr th {\n",
              "        vertical-align: top;\n",
              "    }\n",
              "\n",
              "    .dataframe thead th {\n",
              "        text-align: right;\n",
              "    }\n",
              "</style>\n",
              "<table border=\"1\" class=\"dataframe\">\n",
              "  <thead>\n",
              "    <tr style=\"text-align: right;\">\n",
              "      <th></th>\n",
              "      <th>postUrl</th>\n",
              "      <th>imgUrl</th>\n",
              "      <th>username</th>\n",
              "      <th>image_name</th>\n",
              "    </tr>\n",
              "  </thead>\n",
              "  <tbody>\n",
              "    <tr>\n",
              "      <th>0</th>\n",
              "      <td>https://www.instagram.com/p/CiwFx5VreXl/</td>\n",
              "      <td>https://scontent-lga3-1.cdninstagram.com/v/t51...</td>\n",
              "      <td>calgarycasa</td>\n",
              "      <td>307691913_488615476157775_1769517694690430621_...</td>\n",
              "    </tr>\n",
              "    <tr>\n",
              "      <th>1</th>\n",
              "      <td>https://www.instagram.com/p/Ck9o6B6J2sW/</td>\n",
              "      <td>https://scontent-lga3-1.cdninstagram.com/v/t51...</td>\n",
              "      <td>calgarycasa</td>\n",
              "      <td>315433945_654113342886787_3268897495009490845_...</td>\n",
              "    </tr>\n",
              "    <tr>\n",
              "      <th>2</th>\n",
              "      <td>https://www.instagram.com/p/ClH56Q4pIQe/</td>\n",
              "      <td>https://scontent-lga3-1.cdninstagram.com/v/t51...</td>\n",
              "      <td>calgarycasa</td>\n",
              "      <td>316001466_1195597701364466_2346899986306992260...</td>\n",
              "    </tr>\n",
              "    <tr>\n",
              "      <th>3</th>\n",
              "      <td>https://www.instagram.com/p/ClMvfksvfv8/</td>\n",
              "      <td>https://scontent-lga3-1.cdninstagram.com/v/t51...</td>\n",
              "      <td>calgarycasa</td>\n",
              "      <td>315214169_525785036070377_1929267117663433673_...</td>\n",
              "    </tr>\n",
              "    <tr>\n",
              "      <th>4</th>\n",
              "      <td>https://www.instagram.com/p/ClKiKxSJpJj/</td>\n",
              "      <td>https://scontent-lga3-1.cdninstagram.com/v/t51...</td>\n",
              "      <td>calgarycasa</td>\n",
              "      <td>315995484_8292977360775576_5729175343490777045...</td>\n",
              "    </tr>\n",
              "  </tbody>\n",
              "</table>\n",
              "</div>"
            ],
            "text/plain": [
              "                                    postUrl  \\\n",
              "0  https://www.instagram.com/p/CiwFx5VreXl/   \n",
              "1  https://www.instagram.com/p/Ck9o6B6J2sW/   \n",
              "2  https://www.instagram.com/p/ClH56Q4pIQe/   \n",
              "3  https://www.instagram.com/p/ClMvfksvfv8/   \n",
              "4  https://www.instagram.com/p/ClKiKxSJpJj/   \n",
              "\n",
              "                                              imgUrl     username  \\\n",
              "0  https://scontent-lga3-1.cdninstagram.com/v/t51...  calgarycasa   \n",
              "1  https://scontent-lga3-1.cdninstagram.com/v/t51...  calgarycasa   \n",
              "2  https://scontent-lga3-1.cdninstagram.com/v/t51...  calgarycasa   \n",
              "3  https://scontent-lga3-1.cdninstagram.com/v/t51...  calgarycasa   \n",
              "4  https://scontent-lga3-1.cdninstagram.com/v/t51...  calgarycasa   \n",
              "\n",
              "                                          image_name  \n",
              "0  307691913_488615476157775_1769517694690430621_...  \n",
              "1  315433945_654113342886787_3268897495009490845_...  \n",
              "2  316001466_1195597701364466_2346899986306992260...  \n",
              "3  315214169_525785036070377_1929267117663433673_...  \n",
              "4  315995484_8292977360775576_5729175343490777045...  "
            ]
          },
          "execution_count": 15,
          "metadata": {},
          "output_type": "execute_result"
        }
      ],
      "source": [
        "image_df = ins_profile_data[['postUrl', 'imgUrl', 'username','image_name']]\n",
        "image_df.head()"
      ]
    },
    {
      "cell_type": "code",
      "execution_count": null,
      "metadata": {
        "id": "Ur1i21YtS98e"
      },
      "outputs": [],
      "source": [
        "# image_df = pd.DataFrame()\n",
        "# # Create a dataframe that list all files under each account folder\n",
        "# for i in range(0, len(account_folder)):\n",
        "#     # Locate the user (Change the folder name if needed)\n",
        "#     user_image_df = pd.DataFrame()\n",
        "#     username = account_folder[i]\n",
        "#     user_folder = f'../../SA_Instagram/Images/profile_post_img/{username}/'\n",
        "#     # List all images of the account\n",
        "#     all_user_image = [f for f in listdir(user_folder) if isfile(join(user_folder, f))]\n",
        "#     user_image_df['image_name'] = all_user_image\n",
        "#     user_image_df['username'] = username\n",
        "#     image_df = pd.concat([image_df, user_image_df], ignore_index= True)"
      ]
    },
    {
      "cell_type": "markdown",
      "metadata": {
        "id": "ljoUvXmvS98e"
      },
      "source": [
        "### Randomly Select 2 images from each account to check the image qualities (75 accounts, 150 images in total)"
      ]
    },
    {
      "cell_type": "code",
      "execution_count": null,
      "metadata": {
        "id": "d3AJzXWoS98e"
      },
      "outputs": [],
      "source": [
        "random_image_df = image_df.groupby('username').sample(n=2, random_state= 2333).reset_index(drop=True)"
      ]
    },
    {
      "cell_type": "code",
      "execution_count": null,
      "metadata": {
        "id": "Bx_Eiw7mS98e"
      },
      "outputs": [],
      "source": [
        "# image_folder = f'../../SA_Instagram/Images/profile_post_img/'\n",
        "\n",
        "# # Get all the account name associated with the folder\n",
        "# account_folder = [name for name in os.listdir(image_folder) if os.path.isdir(os.path.join(image_folder, name))]\n",
        "# account_folder\n",
        "\n",
        "# os.listdir(f'../../SA_Instagram/Images/profile_post_img/adsumforwomen/')\n",
        "\n",
        "# random_image_df = pd.DataFrame()\n",
        "# # Create a dataframe that list all files under each account folder\n",
        "# for i in range(0, len(account_folder)):\n",
        "#     # Locate the user (Change the folder name if needed)\n",
        "#     user_image_df = pd.DataFrame()\n",
        "#     username = account_folder[i]\n",
        "#     user_folder = f'../../SA_Instagram/Images/profile_post_img/{username}/'\n",
        "#     # Randomly Choose 2 images from each account without repitition\n",
        "#     random_user_image = random.sample(os.listdir(f'../../SA_Instagram/Images/profile_post_img/{username}/'), 2)\n",
        "#     #all_user_image = [f for f in listdir(user_folder) if isfile(join(user_folder, f))]\n",
        "#     user_image_df['image_name'] = random_user_image\n",
        "#     user_image_df['username'] = username\n",
        "#     random_image_df = pd.concat([random_image_df, user_image_df], ignore_index= True)"
      ]
    },
    {
      "cell_type": "code",
      "execution_count": null,
      "metadata": {
        "id": "qpOOHGvpS98e",
        "outputId": "a87508d8-bbdc-4d9e-999e-470057f824e6"
      },
      "outputs": [
        {
          "data": {
            "text/html": [
              "<div>\n",
              "<style scoped>\n",
              "    .dataframe tbody tr th:only-of-type {\n",
              "        vertical-align: middle;\n",
              "    }\n",
              "\n",
              "    .dataframe tbody tr th {\n",
              "        vertical-align: top;\n",
              "    }\n",
              "\n",
              "    .dataframe thead th {\n",
              "        text-align: right;\n",
              "    }\n",
              "</style>\n",
              "<table border=\"1\" class=\"dataframe\">\n",
              "  <thead>\n",
              "    <tr style=\"text-align: right;\">\n",
              "      <th></th>\n",
              "      <th>postUrl</th>\n",
              "      <th>imgUrl</th>\n",
              "      <th>username</th>\n",
              "      <th>image_name</th>\n",
              "    </tr>\n",
              "  </thead>\n",
              "  <tbody>\n",
              "    <tr>\n",
              "      <th>0</th>\n",
              "      <td>https://www.instagram.com/p/Bw7VMDVH82Q/</td>\n",
              "      <td>https://scontent-lga3-1.cdninstagram.com/v/t51...</td>\n",
              "      <td>adsumforwomen</td>\n",
              "      <td>57606673_496046250931971_103575814176400476_n.jpg</td>\n",
              "    </tr>\n",
              "    <tr>\n",
              "      <th>1</th>\n",
              "      <td>https://www.instagram.com/p/B1M_y6HnAVN/</td>\n",
              "      <td>https://scontent-lga3-1.cdninstagram.com/v/t51...</td>\n",
              "      <td>adsumforwomen</td>\n",
              "      <td>69126123_176761633361055_5634377825757748469_n...</td>\n",
              "    </tr>\n",
              "    <tr>\n",
              "      <th>2</th>\n",
              "      <td>https://www.instagram.com/p/CLNcm5dhioK/</td>\n",
              "      <td>https://scontent-lga3-1.cdninstagram.com/v/t51...</td>\n",
              "      <td>amelia.rising.svsc</td>\n",
              "      <td>148714075_489555962209107_6503052471705524818_...</td>\n",
              "    </tr>\n",
              "    <tr>\n",
              "      <th>3</th>\n",
              "      <td>https://www.instagram.com/p/CLE6LiyhXu3/</td>\n",
              "      <td>https://scontent-lga3-1.cdninstagram.com/v/t51...</td>\n",
              "      <td>amelia.rising.svsc</td>\n",
              "      <td>147439471_136979898276801_4057767448963803683_...</td>\n",
              "    </tr>\n",
              "    <tr>\n",
              "      <th>4</th>\n",
              "      <td>https://www.instagram.com/p/CjB53hRJEV2/</td>\n",
              "      <td>https://scontent-iad3-2.cdninstagram.com/v/t51...</td>\n",
              "      <td>anndavissociety</td>\n",
              "      <td>309403210_197918892656899_6247647267140408121_...</td>\n",
              "    </tr>\n",
              "  </tbody>\n",
              "</table>\n",
              "</div>"
            ],
            "text/plain": [
              "                                    postUrl  \\\n",
              "0  https://www.instagram.com/p/Bw7VMDVH82Q/   \n",
              "1  https://www.instagram.com/p/B1M_y6HnAVN/   \n",
              "2  https://www.instagram.com/p/CLNcm5dhioK/   \n",
              "3  https://www.instagram.com/p/CLE6LiyhXu3/   \n",
              "4  https://www.instagram.com/p/CjB53hRJEV2/   \n",
              "\n",
              "                                              imgUrl            username  \\\n",
              "0  https://scontent-lga3-1.cdninstagram.com/v/t51...       adsumforwomen   \n",
              "1  https://scontent-lga3-1.cdninstagram.com/v/t51...       adsumforwomen   \n",
              "2  https://scontent-lga3-1.cdninstagram.com/v/t51...  amelia.rising.svsc   \n",
              "3  https://scontent-lga3-1.cdninstagram.com/v/t51...  amelia.rising.svsc   \n",
              "4  https://scontent-iad3-2.cdninstagram.com/v/t51...     anndavissociety   \n",
              "\n",
              "                                          image_name  \n",
              "0  57606673_496046250931971_103575814176400476_n.jpg  \n",
              "1  69126123_176761633361055_5634377825757748469_n...  \n",
              "2  148714075_489555962209107_6503052471705524818_...  \n",
              "3  147439471_136979898276801_4057767448963803683_...  \n",
              "4  309403210_197918892656899_6247647267140408121_...  "
            ]
          },
          "execution_count": 18,
          "metadata": {},
          "output_type": "execute_result"
        }
      ],
      "source": [
        "random_image_df.head()"
      ]
    },
    {
      "cell_type": "code",
      "execution_count": null,
      "metadata": {
        "id": "_cKE-qECS98e",
        "outputId": "5bec8147-93b5-4ee0-db5d-dbf0d05075f8"
      },
      "outputs": [
        {
          "data": {
            "text/html": [
              "<div>\n",
              "<style scoped>\n",
              "    .dataframe tbody tr th:only-of-type {\n",
              "        vertical-align: middle;\n",
              "    }\n",
              "\n",
              "    .dataframe tbody tr th {\n",
              "        vertical-align: top;\n",
              "    }\n",
              "\n",
              "    .dataframe thead th {\n",
              "        text-align: right;\n",
              "    }\n",
              "</style>\n",
              "<table border=\"1\" class=\"dataframe\">\n",
              "  <thead>\n",
              "    <tr style=\"text-align: right;\">\n",
              "      <th></th>\n",
              "      <th>postUrl</th>\n",
              "      <th>imgUrl</th>\n",
              "      <th>username</th>\n",
              "      <th>image_name</th>\n",
              "    </tr>\n",
              "  </thead>\n",
              "  <tbody>\n",
              "    <tr>\n",
              "      <th>4</th>\n",
              "      <td>https://www.instagram.com/p/CjB53hRJEV2/</td>\n",
              "      <td>https://scontent-iad3-2.cdninstagram.com/v/t51...</td>\n",
              "      <td>anndavissociety</td>\n",
              "      <td>309403210_197918892656899_6247647267140408121_...</td>\n",
              "    </tr>\n",
              "    <tr>\n",
              "      <th>80</th>\n",
              "      <td>https://www.instagram.com/p/Cjq5D85LOzt/</td>\n",
              "      <td>https://scontent-yyz1-1.cdninstagram.com/v/t51...</td>\n",
              "      <td>maisonhina</td>\n",
              "      <td>311430153_199403495779111_4479968023173172539_...</td>\n",
              "    </tr>\n",
              "    <tr>\n",
              "      <th>130</th>\n",
              "      <td>https://www.instagram.com/p/CfwgujDOjbW/</td>\n",
              "      <td>https://instagram.fhio3-1.fna.fbcdn.net/v/t51....</td>\n",
              "      <td>thirdplaceth</td>\n",
              "      <td>292325973_619230373159458_4818080377625759112_...</td>\n",
              "    </tr>\n",
              "  </tbody>\n",
              "</table>\n",
              "</div>"
            ],
            "text/plain": [
              "                                      postUrl  \\\n",
              "4    https://www.instagram.com/p/CjB53hRJEV2/   \n",
              "80   https://www.instagram.com/p/Cjq5D85LOzt/   \n",
              "130  https://www.instagram.com/p/CfwgujDOjbW/   \n",
              "\n",
              "                                                imgUrl         username  \\\n",
              "4    https://scontent-iad3-2.cdninstagram.com/v/t51...  anndavissociety   \n",
              "80   https://scontent-yyz1-1.cdninstagram.com/v/t51...       maisonhina   \n",
              "130  https://instagram.fhio3-1.fna.fbcdn.net/v/t51....     thirdplaceth   \n",
              "\n",
              "                                            image_name  \n",
              "4    309403210_197918892656899_6247647267140408121_...  \n",
              "80   311430153_199403495779111_4479968023173172539_...  \n",
              "130  292325973_619230373159458_4818080377625759112_...  "
            ]
          },
          "execution_count": 19,
          "metadata": {},
          "output_type": "execute_result"
        }
      ],
      "source": [
        "random_image_df[random_image_df.image_name.str.contains('webp')]"
      ]
    },
    {
      "cell_type": "markdown",
      "metadata": {
        "id": "Ndc4cQ-dS98e"
      },
      "source": [
        "### Parallel the sharpness and BRISQUE calculation"
      ]
    },
    {
      "cell_type": "code",
      "execution_count": null,
      "metadata": {
        "id": "9m8XXVEOS98e",
        "outputId": "6071bca0-aaa7-4d40-e0ba-91d3d0be392d"
      },
      "outputs": [
        {
          "data": {
            "text/plain": [
              "'57606673_496046250931971_103575814176400476_n.jpg'"
            ]
          },
          "execution_count": 20,
          "metadata": {},
          "output_type": "execute_result"
        }
      ],
      "source": [
        "# To parallelize the sharpness and BRISQUE calculation, create file names in list format\n",
        "random_image_df.image_name.iloc[0]"
      ]
    },
    {
      "cell_type": "code",
      "execution_count": null,
      "metadata": {
        "id": "2OTj0eVQS98e"
      },
      "outputs": [],
      "source": [
        "# Get list of images for parallel process\n",
        "image_location_list = []\n",
        "for i in range(0, len(random_image_df)):\n",
        "    username = random_image_df.username.iloc[i]\n",
        "    image_name = random_image_df.image_name.iloc[i]\n",
        "    image_location = f'../../SA_Instagram/Images/profile_post_img/{username}/{image_name}'\n",
        "    image_location_list.append(image_location)"
      ]
    },
    {
      "cell_type": "markdown",
      "metadata": {
        "id": "aE4oBE-NS98e"
      },
      "source": [
        "### Sharpness"
      ]
    },
    {
      "cell_type": "code",
      "execution_count": 20,
      "metadata": {
        "id": "YoH5mxwYS98e"
      },
      "outputs": [],
      "source": [
        "def calculate_sharpness(image_location):\n",
        "    '''Calculate the sharpness of the image'''\n",
        "    iqa = DOM()\n",
        "    \n",
        "    sharpness_score = iqa.get_sharpness(image_location)\n",
        "    return sharpness_score"
      ]
    },
    {
      "cell_type": "code",
      "execution_count": null,
      "metadata": {
        "id": "EOU3vIG8S98e"
      },
      "outputs": [],
      "source": [
        "# sharpness_score_list = []\n",
        "# for i in range(0, len(image_location_list)):\n",
        "#     sharpness_score = calculate_sharpness(image_location_list[i])\n",
        "#     sharpness_score_list.append(sharpness_score)"
      ]
    },
    {
      "cell_type": "code",
      "execution_count": null,
      "metadata": {
        "id": "pwMrd1wzS98e"
      },
      "outputs": [],
      "source": [
        "sharpness_score_result = Parallel(n_jobs=cpu_count)(delayed(calculate_sharpness)(i) for i in image_location_list)"
      ]
    },
    {
      "cell_type": "code",
      "execution_count": null,
      "metadata": {
        "id": "d4jvYz0kS98f"
      },
      "outputs": [],
      "source": [
        "random_image_df['sharpness'] = sharpness_score_result"
      ]
    },
    {
      "cell_type": "markdown",
      "metadata": {
        "id": "hB5CWNdzS98f"
      },
      "source": [
        "### BRISQUE"
      ]
    },
    {
      "cell_type": "code",
      "execution_count": 17,
      "metadata": {
        "id": "1AffoZsuS98f"
      },
      "outputs": [],
      "source": [
        "def calculate_BRISQUE(image_location):\n",
        "    '''Calculate the BRISQUE score of the image'''\n",
        "    img = PIL.Image.open(image_location)\n",
        "    brisque_score = brisque.score(img)\n",
        "    return brisque_score"
      ]
    },
    {
      "cell_type": "code",
      "execution_count": 18,
      "metadata": {
        "id": "xCTw1P30S98f"
      },
      "outputs": [],
      "source": [
        "def calculate_BRISQUE_alt(image_location):\n",
        "    '''Calculate the BRISQUE score of the image using another package'''\n",
        "    img = cv2.imread(image_location)\n",
        "    obj = BRISQUE(url = False)\n",
        "    brisque_score_alt = obj.score(img)\n",
        "    return brisque_score_alt"
      ]
    },
    {
      "cell_type": "code",
      "execution_count": null,
      "metadata": {
        "id": "pHnM__NAS98f",
        "outputId": "3f55b401-70ae-4f7f-a8e5-c320a6849a71"
      },
      "outputs": [
        {
          "name": "stdout",
          "output_type": "stream",
          "text": [
            "Wall time: 7.51 s\n"
          ]
        },
        {
          "data": {
            "text/plain": [
              "15.791576122748296"
            ]
          },
          "execution_count": 39,
          "metadata": {},
          "output_type": "execute_result"
        }
      ],
      "source": [
        "%%time\n",
        "# demo\n",
        "calculate_BRISQUE('../../SA_Instagram/Images/profile_post_img/adsumforwomen/57606673_496046250931971_103575814176400476_n.jpg')"
      ]
    },
    {
      "cell_type": "code",
      "execution_count": null,
      "metadata": {
        "id": "H8lBj9oVS98f",
        "outputId": "551673d7-5fdd-4333-f598-0e36f0b7a9a8"
      },
      "outputs": [
        {
          "name": "stdout",
          "output_type": "stream",
          "text": [
            "Wall time: 946 ms\n"
          ]
        },
        {
          "data": {
            "text/plain": [
              "16.767552431506004"
            ]
          },
          "execution_count": 40,
          "metadata": {},
          "output_type": "execute_result"
        }
      ],
      "source": [
        "%%time\n",
        "calculate_BRISQUE_alt('../../SA_Instagram/Images/profile_post_img/adsumforwomen/57606673_496046250931971_103575814176400476_n.jpg')"
      ]
    },
    {
      "cell_type": "code",
      "execution_count": null,
      "metadata": {
        "id": "Gd2AocRVS98f",
        "outputId": "bacca966-1a5f-4b7e-e8ca-5f635ac933d5"
      },
      "outputs": [
        {
          "name": "stdout",
          "output_type": "stream",
          "text": [
            "Wall time: 5min 5s\n"
          ]
        }
      ],
      "source": [
        "%%time\n",
        "brisque_score_result = Parallel(n_jobs=cpu_count)(delayed(calculate_BRISQUE)(i) for i in image_location_list)"
      ]
    },
    {
      "cell_type": "code",
      "execution_count": null,
      "metadata": {
        "id": "Tnr6JI73S98f",
        "outputId": "8fc48caa-738b-42e9-9429-263743a26d2c"
      },
      "outputs": [
        {
          "name": "stdout",
          "output_type": "stream",
          "text": [
            "Wall time: 30.4 s\n"
          ]
        }
      ],
      "source": [
        "%%time\n",
        "brisque_score_result_alt = Parallel(n_jobs=cpu_count)(delayed(calculate_BRISQUE_alt)(i) for i in image_location_list)"
      ]
    },
    {
      "cell_type": "code",
      "execution_count": null,
      "metadata": {
        "id": "Ny7uURyFS98f"
      },
      "outputs": [],
      "source": [
        "random_image_df['BRISQUE'] = brisque_score_result\n",
        "random_image_df['BRISQUE_alt'] = brisque_score_result_alt"
      ]
    },
    {
      "cell_type": "code",
      "execution_count": null,
      "metadata": {
        "scrolled": false,
        "id": "3uG6bhIMS98f",
        "outputId": "c4c90efa-f728-43eb-f4bf-f00059ed4d04"
      },
      "outputs": [
        {
          "data": {
            "text/html": [
              "<div>\n",
              "<style scoped>\n",
              "    .dataframe tbody tr th:only-of-type {\n",
              "        vertical-align: middle;\n",
              "    }\n",
              "\n",
              "    .dataframe tbody tr th {\n",
              "        vertical-align: top;\n",
              "    }\n",
              "\n",
              "    .dataframe thead th {\n",
              "        text-align: right;\n",
              "    }\n",
              "</style>\n",
              "<table border=\"1\" class=\"dataframe\">\n",
              "  <thead>\n",
              "    <tr style=\"text-align: right;\">\n",
              "      <th></th>\n",
              "      <th>postUrl</th>\n",
              "      <th>imgUrl</th>\n",
              "      <th>username</th>\n",
              "      <th>image_name</th>\n",
              "      <th>sharpness</th>\n",
              "      <th>BRISQUE</th>\n",
              "      <th>BRISQUE_alt</th>\n",
              "    </tr>\n",
              "  </thead>\n",
              "  <tbody>\n",
              "    <tr>\n",
              "      <th>0</th>\n",
              "      <td>https://www.instagram.com/p/Bw7VMDVH82Q/</td>\n",
              "      <td>https://scontent-lga3-1.cdninstagram.com/v/t51...</td>\n",
              "      <td>adsumforwomen</td>\n",
              "      <td>57606673_496046250931971_103575814176400476_n.jpg</td>\n",
              "      <td>0.974528</td>\n",
              "      <td>15.791576</td>\n",
              "      <td>16.767552</td>\n",
              "    </tr>\n",
              "    <tr>\n",
              "      <th>1</th>\n",
              "      <td>https://www.instagram.com/p/B1M_y6HnAVN/</td>\n",
              "      <td>https://scontent-lga3-1.cdninstagram.com/v/t51...</td>\n",
              "      <td>adsumforwomen</td>\n",
              "      <td>69126123_176761633361055_5634377825757748469_n...</td>\n",
              "      <td>1.047816</td>\n",
              "      <td>13.501934</td>\n",
              "      <td>13.261451</td>\n",
              "    </tr>\n",
              "    <tr>\n",
              "      <th>2</th>\n",
              "      <td>https://www.instagram.com/p/CLNcm5dhioK/</td>\n",
              "      <td>https://scontent-lga3-1.cdninstagram.com/v/t51...</td>\n",
              "      <td>amelia.rising.svsc</td>\n",
              "      <td>148714075_489555962209107_6503052471705524818_...</td>\n",
              "      <td>1.041660</td>\n",
              "      <td>28.173285</td>\n",
              "      <td>28.669672</td>\n",
              "    </tr>\n",
              "    <tr>\n",
              "      <th>3</th>\n",
              "      <td>https://www.instagram.com/p/CLE6LiyhXu3/</td>\n",
              "      <td>https://scontent-lga3-1.cdninstagram.com/v/t51...</td>\n",
              "      <td>amelia.rising.svsc</td>\n",
              "      <td>147439471_136979898276801_4057767448963803683_...</td>\n",
              "      <td>1.002779</td>\n",
              "      <td>52.629991</td>\n",
              "      <td>51.603742</td>\n",
              "    </tr>\n",
              "    <tr>\n",
              "      <th>4</th>\n",
              "      <td>https://www.instagram.com/p/CjB53hRJEV2/</td>\n",
              "      <td>https://scontent-iad3-2.cdninstagram.com/v/t51...</td>\n",
              "      <td>anndavissociety</td>\n",
              "      <td>309403210_197918892656899_6247647267140408121_...</td>\n",
              "      <td>1.108666</td>\n",
              "      <td>43.406689</td>\n",
              "      <td>45.910610</td>\n",
              "    </tr>\n",
              "  </tbody>\n",
              "</table>\n",
              "</div>"
            ],
            "text/plain": [
              "                                    postUrl  \\\n",
              "0  https://www.instagram.com/p/Bw7VMDVH82Q/   \n",
              "1  https://www.instagram.com/p/B1M_y6HnAVN/   \n",
              "2  https://www.instagram.com/p/CLNcm5dhioK/   \n",
              "3  https://www.instagram.com/p/CLE6LiyhXu3/   \n",
              "4  https://www.instagram.com/p/CjB53hRJEV2/   \n",
              "\n",
              "                                              imgUrl            username  \\\n",
              "0  https://scontent-lga3-1.cdninstagram.com/v/t51...       adsumforwomen   \n",
              "1  https://scontent-lga3-1.cdninstagram.com/v/t51...       adsumforwomen   \n",
              "2  https://scontent-lga3-1.cdninstagram.com/v/t51...  amelia.rising.svsc   \n",
              "3  https://scontent-lga3-1.cdninstagram.com/v/t51...  amelia.rising.svsc   \n",
              "4  https://scontent-iad3-2.cdninstagram.com/v/t51...     anndavissociety   \n",
              "\n",
              "                                          image_name  sharpness    BRISQUE  \\\n",
              "0  57606673_496046250931971_103575814176400476_n.jpg   0.974528  15.791576   \n",
              "1  69126123_176761633361055_5634377825757748469_n...   1.047816  13.501934   \n",
              "2  148714075_489555962209107_6503052471705524818_...   1.041660  28.173285   \n",
              "3  147439471_136979898276801_4057767448963803683_...   1.002779  52.629991   \n",
              "4  309403210_197918892656899_6247647267140408121_...   1.108666  43.406689   \n",
              "\n",
              "   BRISQUE_alt  \n",
              "0    16.767552  \n",
              "1    13.261451  \n",
              "2    28.669672  \n",
              "3    51.603742  \n",
              "4    45.910610  "
            ]
          },
          "execution_count": 45,
          "metadata": {},
          "output_type": "execute_result"
        }
      ],
      "source": [
        "random_image_df.head()"
      ]
    },
    {
      "cell_type": "code",
      "execution_count": null,
      "metadata": {
        "id": "nYR84_88S98f"
      },
      "outputs": [],
      "source": [
        "random_image_df.to_csv(f'../../SA_Instagram/data/image_quality_explore/image_quality_explore.csv', index= False)"
      ]
    },
    {
      "cell_type": "markdown",
      "metadata": {
        "id": "Y4RsZHHMS98f"
      },
      "source": [
        "### Copy the randomly selected images for reference"
      ]
    },
    {
      "cell_type": "code",
      "execution_count": null,
      "metadata": {
        "id": "WowFADMOS98f"
      },
      "outputs": [],
      "source": [
        "for filename in image_location_list:\n",
        "    shutil.copy(filename, f'../../SA_Instagram/data/image_quality_explore/')"
      ]
    }
  ],
  "metadata": {
    "kernelspec": {
      "display_name": "Python 3",
      "language": "python",
      "name": "python3"
    },
    "language_info": {
      "codemirror_mode": {
        "name": "ipython",
        "version": 3
      },
      "file_extension": ".py",
      "mimetype": "text/x-python",
      "name": "python",
      "nbconvert_exporter": "python",
      "pygments_lexer": "ipython3",
      "version": "3.8.5"
    },
    "colab": {
      "provenance": []
    }
  },
  "nbformat": 4,
  "nbformat_minor": 0
}